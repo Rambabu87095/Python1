{
 "cells": [
  {
   "cell_type": "markdown",
   "metadata": {},
   "source": [
    "#### Day -1"
   ]
  },
  {
   "cell_type": "code",
   "execution_count": 1,
   "metadata": {},
   "outputs": [
    {
     "name": "stdout",
     "output_type": "stream",
     "text": [
      "Hello world!\n"
     ]
    }
   ],
   "source": [
    "print('Hello world!')"
   ]
  },
  {
   "cell_type": "code",
   "execution_count": 2,
   "metadata": {},
   "outputs": [
    {
     "name": "stdout",
     "output_type": "stream",
     "text": [
      "Day 1 - String Manipulation\n",
      "String Concatent is done with the  sing.\n",
      "e.g. print(\"Hello \"+\"world\")\n",
      "New lines can be created with a backslash and n.\n"
     ]
    }
   ],
   "source": [
    "print('Day 1 - String Manipulation')\n",
    "print(\"String Concatent is done with the \"+\" sing.\")\n",
    "print('e.g. print(\"Hello \"+\"world\")')\n",
    "print(\"New lines can be created with a backslash and n.\")"
   ]
  },
  {
   "cell_type": "code",
   "execution_count": 3,
   "metadata": {},
   "outputs": [
    {
     "name": "stdout",
     "output_type": "stream",
     "text": [
      "what is your name?RAmbabu\n",
      "Hello RAmbabu!\n"
     ]
    }
   ],
   "source": [
    "#input() will get user input iin console\n",
    "#Then print() will print the word \"Hello\"\n",
    "print('Hello '+ input(\"what is your name?\")+'!')"
   ]
  },
  {
   "cell_type": "code",
   "execution_count": 4,
   "metadata": {},
   "outputs": [
    {
     "name": "stdout",
     "output_type": "stream",
     "text": [
      "What is your name? rambabu\n",
      "7\n"
     ]
    }
   ],
   "source": [
    "print(len(input('What is your name? ')))"
   ]
  },
  {
   "cell_type": "code",
   "execution_count": 5,
   "metadata": {},
   "outputs": [
    {
     "name": "stdout",
     "output_type": "stream",
     "text": [
      "Welcome to the band name generator.\n",
      "Which city did you grow up in? nirmali\n",
      "What is the name of a petdof\n",
      "Your band name could be nirmali dof\n"
     ]
    }
   ],
   "source": [
    "#1. Create a greeting for your program.\n",
    "print(\"Welcome to the band name generator.\")\n",
    "#2. Ask the user for the city that they grew up in.\n",
    "city=input('Which city did you grow up in? ')\n",
    "#3. Ask the user for the name of pet.\n",
    "pet=input('What is the name of a pet')\n",
    "#4 Combine the name of their city and pet and show them their band name.\n",
    "print(\"Your band name could be \"+city+' '+ pet)"
   ]
  },
  {
   "cell_type": "markdown",
   "metadata": {},
   "source": [
    "#### Day -2"
   ]
  },
  {
   "cell_type": "code",
   "execution_count": 6,
   "metadata": {},
   "outputs": [
    {
     "name": "stdout",
     "output_type": "stream",
     "text": [
      "h\n"
     ]
    }
   ],
   "source": [
    "print(\"hello\"[0])"
   ]
  },
  {
   "cell_type": "code",
   "execution_count": 7,
   "metadata": {},
   "outputs": [
    {
     "name": "stdout",
     "output_type": "stream",
     "text": [
      "123456789\n"
     ]
    }
   ],
   "source": [
    "print(123_456_789)"
   ]
  },
  {
   "cell_type": "code",
   "execution_count": 8,
   "metadata": {},
   "outputs": [
    {
     "name": "stdout",
     "output_type": "stream",
     "text": [
      "What is your name? ram\n",
      "<class 'int'>\n",
      "<class 'str'>\n",
      "Your name has 3 characters.\n"
     ]
    }
   ],
   "source": [
    "num_char=len(input('What is your name? '))\n",
    "print(type(num_char))\n",
    "#Concate only str_value not int_value\n",
    "num_char=str(num_char)\n",
    "print(type(num_char))\n",
    "print('Your name has ' + num_char +' characters.')\n",
    " "
   ]
  },
  {
   "cell_type": "code",
   "execution_count": 9,
   "metadata": {},
   "outputs": [
    {
     "name": "stdout",
     "output_type": "stream",
     "text": [
      "Type a two digit number: 23\n",
      "5\n"
     ]
    }
   ],
   "source": [
    "# 🚨 Don't change the code below 👇\n",
    "two_digit_number = input(\"Type a two digit number: \")\n",
    "# 🚨 Don't change the code above 👆\n",
    "a=int(two_digit_number[0])\n",
    "b=int(two_digit_number[1])\n",
    "####################################\n",
    "# Write your code below this line 👇\n",
    "sum=a+b\n",
    "print(sum)  "
   ]
  },
  {
   "cell_type": "code",
   "execution_count": 10,
   "metadata": {},
   "outputs": [
    {
     "data": {
      "text/plain": [
       "7.0"
      ]
     },
     "execution_count": 10,
     "metadata": {},
     "output_type": "execute_result"
    }
   ],
   "source": [
    "#padmas((),**,/,*,+,-) \n",
    "3*3+3/3-3"
   ]
  },
  {
   "cell_type": "code",
   "execution_count": 11,
   "metadata": {},
   "outputs": [
    {
     "name": "stdout",
     "output_type": "stream",
     "text": [
      "2.6666666666666665\n",
      "2\n",
      "2\n",
      "2.67\n",
      "2.67\n"
     ]
    }
   ],
   "source": [
    "print(8/3)\n",
    "print(int(8/3))\n",
    "print(8//3)\n",
    "print(round(8/3,2))\n",
    "print(round(2.666666,2))"
   ]
  },
  {
   "cell_type": "code",
   "execution_count": 12,
   "metadata": {},
   "outputs": [
    {
     "name": "stdout",
     "output_type": "stream",
     "text": [
      "1\n"
     ]
    }
   ],
   "source": [
    "score=0\n",
    "#User csore a point\n",
    "score += 1\n",
    "print(score)"
   ]
  },
  {
   "cell_type": "code",
   "execution_count": 13,
   "metadata": {},
   "outputs": [
    {
     "name": "stdout",
     "output_type": "stream",
     "text": [
      "your score is 0, Your height is 1.8, your are winning is True\n"
     ]
    }
   ],
   "source": [
    "score=0\n",
    "height=1.8\n",
    "isWinning =True\n",
    "#f-string\n",
    "print(f'your score is {score}, Your height is {height}, your are winning is {isWinning}')"
   ]
  },
  {
   "cell_type": "code",
   "execution_count": 14,
   "metadata": {},
   "outputs": [
    {
     "name": "stdout",
     "output_type": "stream",
     "text": [
      "What is your current age?12\n",
      "You have 28470 days, 4056 weeks,  and 936 months left.\n"
     ]
    }
   ],
   "source": [
    "# 🚨 Don't change the code below 👇\n",
    "age = input(\"What is your current age?\")\n",
    "# 🚨 Don't change the code above 👆\n",
    "remain_age=90-int(age)\n",
    "day=remain_age*365\n",
    "month=remain_age*12\n",
    "week=remain_age*52\n",
    "#Write your code below this line 👇\n",
    "print(f'You have {day} days, {week} weeks,  and {month} months left.' )\n",
    "\n",
    " \n"
   ]
  },
  {
   "cell_type": "code",
   "execution_count": 15,
   "metadata": {},
   "outputs": [
    {
     "name": "stdout",
     "output_type": "stream",
     "text": [
      "welcom to the tip calculator!\n",
      "what was the total bill? $120\n",
      "How much tip would you like to give? 10, 12, or 15? 10\n",
      "How many people to split the bill?12\n",
      "132.0\n"
     ]
    }
   ],
   "source": [
    "# If the bill was $150.00, split between 5 people, with 12% tip.\n",
    "# Each person should pay (150.00/5)*1.12  \n",
    "# Round the result to 2 decimal places=33.\n",
    "\n",
    "print ('welcom to the tip calculator!')\n",
    "bill=float(input('what was the total bill? $'))\n",
    "tip=int(input('How much tip would you like to give? 10, 12, or 15? '))\n",
    "people=int(input('How many people to split the bill?'))\n",
    "bill_with_tip=tip/100*bill+bill\n",
    "print(bill_with_tip)"
   ]
  },
  {
   "cell_type": "markdown",
   "metadata": {},
   "source": [
    "#### day - 3"
   ]
  },
  {
   "cell_type": "code",
   "execution_count": 16,
   "metadata": {},
   "outputs": [
    {
     "name": "stdout",
     "output_type": "stream",
     "text": [
      "Welcome to the rollercoaster!\n",
      "What is your height incm? 120\n",
      "You can ride the rollercoaster!\n"
     ]
    }
   ],
   "source": [
    "print(\"Welcome to the rollercoaster!\")\n",
    "height=int(input('What is your height incm? '))\n",
    "if height >= 120:\n",
    "    print(\"You can ride the rollercoaster!\")\n",
    "else:\n",
    "    print(\"Soorry, you have to grow taller before you can ride\")"
   ]
  },
  {
   "cell_type": "code",
   "execution_count": 17,
   "metadata": {},
   "outputs": [
    {
     "name": "stdout",
     "output_type": "stream",
     "text": [
      "Welcome to the rollercoaster!\n",
      "What is your height incm? 130\n",
      "You can ride the rollercoaster!\n",
      "What is your is age? 110\n",
      "Please pay $12.\n"
     ]
    }
   ],
   "source": [
    "# Nested loop \n",
    "print(\"Welcome to the rollercoaster!\")\n",
    "height=int(input('What is your height incm? '))\n",
    "if height >= 120:\n",
    "    print(\"You can ride the rollercoaster!\")\n",
    "    age=int(input(\"What is your is age? \"))\n",
    "    if age<12:\n",
    "        print('Please pay $5.')\n",
    "    elif age<=18:\n",
    "        print('please pay $7.')\n",
    "    else:\n",
    "        print('Please pay $12.')\n",
    "else:\n",
    "    print(\"Soorry, you have to grow taller before you can ride\")"
   ]
  },
  {
   "cell_type": "code",
   "execution_count": 18,
   "metadata": {},
   "outputs": [
    {
     "name": "stdout",
     "output_type": "stream",
     "text": [
      "Welcome to Python Pizza Deliveries!\n",
      "What size pizza do you want? S, M, or L s\n",
      "Do you want pepperoni? Y or N y\n",
      "Do you want extra cheese? Y or N n\n"
     ]
    }
   ],
   "source": [
    "# 🚨 Don't change the code below 👇\n",
    "print(\"Welcome to Python Pizza Deliveries!\")\n",
    "size = input(\"What size pizza do you want? S, M, or L \")\n",
    "add_pepperoni = input(\"Do you want pepperoni? Y or N \")\n",
    "extra_cheese = input(\"Do you want extra cheese? Y or N \")\n",
    "# 🚨 Don't change the code above 👆\n",
    "\n",
    "#Write your code below this line 👇\n",
    "\n",
    "if size=='L':\n",
    "    if add_pepperoni=='Y':\n",
    "        if extra_cheese=='Y':\n",
    "            bill=25+3+1\n",
    "            print(f'Your final bill is: ${bill}.')\n",
    "        elif extra_cheese=='N':\n",
    "            bill=25+3\n",
    "            print(f'Your final bill is: ${bill}.')\n",
    "    elif add_pepperoni=='N':\n",
    "        if extra_cheese=='Y':\n",
    "            bill=25+1\n",
    "            print(f'Your final bill is: ${bill}.')\n",
    "        elif extra_cheese=='N':\n",
    "            bill=25\n",
    "            print(f'Your final bill is: ${bill}.')\n",
    "if size=='M':\n",
    "    if add_pepperoni=='Y':\n",
    "        if extra_cheese=='Y':\n",
    "            bill=20+3+1\n",
    "            print(f'Your final bill is: ${bill}.')    \n",
    "        elif extra_cheese=='N':\n",
    "            bill=20+3\n",
    "            print(f'Your final bill is: ${bill}.')    \n",
    "    elif add_pepperoni=='N':\n",
    "        if extra_cheese=='Y':\n",
    "            bill=20+1\n",
    "            print(f'Your final bill is: ${bill}.')\n",
    "        elif extra_cheese=='N':\n",
    "            bill=20\n",
    "            print(f'Your final bill is: ${bill}.')\n",
    "if size=='S':\n",
    "    if add_pepperoni=='Y':\n",
    "        if extra_cheese=='Y':\n",
    "            bill=15+2+1\n",
    "            print(f'Your final bill is: ${bill}.')\n",
    "        elif extra_cheese=='N':\n",
    "            bill=15+1\n",
    "            print(f'Your final bill is: ${bill}.')\n",
    "    elif add_pepperoni=='N':\n",
    "        if extra_cheese=='Y':\n",
    "            bill=15+1\n",
    "            print(f'Your final bill is: ${bill}.')\n",
    "        elif extra_cheese=='N':\n",
    "            bill=15\n",
    "            print(f'Your final bill is: ${bill}.')"
   ]
  },
  {
   "cell_type": "code",
   "execution_count": 19,
   "metadata": {},
   "outputs": [
    {
     "name": "stdout",
     "output_type": "stream",
     "text": [
      "Welcome to the Love Calculator!\n",
      "What is your name? \n",
      "rambabu\n",
      "What is their name? \n",
      "ram\n",
      "your score is 30.\n"
     ]
    }
   ],
   "source": [
    "# 🚨 Don't change the code below 👇\n",
    "print(\"Welcome to the Love Calculator!\")\n",
    "name1 = input(\"What is your name? \\n\")\n",
    "name2 = input(\"What is their name? \\n\")\n",
    "# 🚨 Don't change the code above 👆\n",
    "\n",
    "#Write your code below this line 👇\n",
    "combine_string=name1+name2\n",
    "lower_case_string=combine_string.lower()\n",
    "l=lower_case_string.count('l')\n",
    "o=lower_case_string.count('o')\n",
    "v=lower_case_string.count('v')\n",
    "e=lower_case_string.count('e')\n",
    "love=l+o+v+e\n",
    "t=lower_case_string.count('t')\n",
    "r=lower_case_string.count('r')\n",
    "u=lower_case_string.count('u')\n",
    "e=lower_case_string.count('e')\n",
    "true=t+r+u+e\n",
    "lovescore=str(true)+str(love)\n",
    "lovescore=int(lovescore)\n",
    "if lovescore < 10 or lovescore > 90:\n",
    "    print(f'Your score is {lovescore}, you go together like coke and mentos.')\n",
    "elif lovescore > 40 and lovescore < 50:\n",
    "    print(f'Your score is {lovescore}, you are alright together.')\n",
    "else:\n",
    "    print(f'your score is {lovescore}.')\n",
    "\n"
   ]
  },
  {
   "cell_type": "code",
   "execution_count": 20,
   "metadata": {},
   "outputs": [
    {
     "name": "stdout",
     "output_type": "stream",
     "text": [
      "*******************************************************************************\n",
      "          |                   |                  |                     |\n",
      " _________|________________.=\"\"_;=.______________|_____________________|_______\n",
      "|                   |  ,-\"_,=\"\"     `\"=.|                  |\n",
      "|___________________|__\"=._o`\"-._        `\"=.______________|___________________\n",
      "          |                `\"=._o`\"=._      _`\"=._                     |\n",
      " _________|_____________________:=._o \"=._.\"_.-=\"'\"=.__________________|_______\n",
      "|                   |    __.--\" , ; `\"=._o.\" ,-\"\"\"-._ \".   |\n",
      "|___________________|_._\"  ,. .` ` `` ,  `\"-._\"-._   \". '__|___________________\n",
      "          |           |o`\"=._` , \"` `; .\". ,  \"-._\"-._; ;              |\n",
      " _________|___________| ;`-.o`\"=._; .\" ` '`.\"\\` . \"-._ /_______________|_______\n",
      "|                   | |o;    `\"-.o`\"=._``  '` \" ,__.--o;   |\n",
      "|___________________|_| ;     (#) `-.o `\"=.`_.--\"_o.-; ;___|___________________\n",
      "____/______/______/___|o;._    \"      `\".o|o_.--\"    ;o;____/______/______/____\n",
      "/______/______/______/_\"=._o--._        ; | ;        ; ;/______/______/______/_\n",
      "____/______/______/______/__\"=._o--._   ;o|o;     _._;o;____/______/______/____\n",
      "/______/______/______/______/____\"=._o._; | ;_.--\"o.--\"_/______/______/______/_\n",
      "____/______/______/______/______/_____\"=.o|o_.--\"\"___/______/______/______/____\n",
      "/______/______/______/______/______/______/______/______/______/______/______/_\n",
      "*******************************************************************************\n",
      "\n",
      "Welcome to treasure Iseland.\n",
      "Your mission is to find the treasure.\n",
      "You're at a crossroad, where do you want to go? Type \"left\" or \"right\".right\n",
      "you fell into a hole. Game over.\n"
     ]
    }
   ],
   "source": [
    "print('''*******************************************************************************\n",
    "          |                   |                  |                     |\n",
    " _________|________________.=\"\"_;=.______________|_____________________|_______\n",
    "|                   |  ,-\"_,=\"\"     `\"=.|                  |\n",
    "|___________________|__\"=._o`\"-._        `\"=.______________|___________________\n",
    "          |                `\"=._o`\"=._      _`\"=._                     |\n",
    " _________|_____________________:=._o \"=._.\"_.-=\"'\"=.__________________|_______\n",
    "|                   |    __.--\" , ; `\"=._o.\" ,-\"\"\"-._ \".   |\n",
    "|___________________|_._\"  ,. .` ` `` ,  `\"-._\"-._   \". '__|___________________\n",
    "          |           |o`\"=._` , \"` `; .\". ,  \"-._\"-._; ;              |\n",
    " _________|___________| ;`-.o`\"=._; .\" ` '`.\"\\` . \"-._ /_______________|_______\n",
    "|                   | |o;    `\"-.o`\"=._``  '` \" ,__.--o;   |\n",
    "|___________________|_| ;     (#) `-.o `\"=.`_.--\"_o.-; ;___|___________________\n",
    "____/______/______/___|o;._    \"      `\".o|o_.--\"    ;o;____/______/______/____\n",
    "/______/______/______/_\"=._o--._        ; | ;        ; ;/______/______/______/_\n",
    "____/______/______/______/__\"=._o--._   ;o|o;     _._;o;____/______/______/____\n",
    "/______/______/______/______/____\"=._o._; | ;_.--\"o.--\"_/______/______/______/_\n",
    "____/______/______/______/______/_____\"=.o|o_.--\"\"___/______/______/______/____\n",
    "/______/______/______/______/______/______/______/______/______/______/______/_\n",
    "*******************************************************************************\n",
    "''') # search by google ASCII art\n",
    "print('Welcome to treasure Iseland.')\n",
    "print('Your mission is to find the treasure.')\n",
    "choice1=input('You\\'re at a crossroad, where do you want to go? Type \"left\" or \"right\".').lower()\n",
    "if choice1=='left':\n",
    "    choice2=input('You\\'ve come to a lake. There is an island in the middle of the lake.Type \"wait\" to wait for a boat. Type \"swim\" to swim across').lower() \n",
    "    if choice2=='wait':\n",
    "        choice3=input('you arrive at the island unharmed.There is a house with doors. One red,one yello and one blue.Which colour do you choose?').lower()\n",
    "        if choice3=='yellow':\n",
    "            print('You are a winner')\n",
    "        elif choice3=='red':\n",
    "            print('Burned by fire.Game over')\n",
    "        elif choice3=='blue':\n",
    "            print('Eaten by beast.Game over')\n",
    "        else:\n",
    "            print('Game over')\n",
    "    else:\n",
    "        print('You got attacked by an trout.Game over')\n",
    "else:\n",
    "     print('you fell into a hole. Game over.')"
   ]
  },
  {
   "cell_type": "markdown",
   "metadata": {},
   "source": [
    "#### Day - 4"
   ]
  },
  {
   "cell_type": "code",
   "execution_count": 21,
   "metadata": {},
   "outputs": [],
   "source": [
    "import random"
   ]
  },
  {
   "cell_type": "code",
   "execution_count": 22,
   "metadata": {},
   "outputs": [
    {
     "name": "stdout",
     "output_type": "stream",
     "text": [
      "4\n",
      "0.758792062077728\n"
     ]
    }
   ],
   "source": [
    "random_integer=random.randint(1,10)\n",
    "print(random_integer)\n",
    "random_float=random.random()\n",
    "print(random_float)"
   ]
  },
  {
   "cell_type": "code",
   "execution_count": 23,
   "metadata": {},
   "outputs": [
    {
     "name": "stdout",
     "output_type": "stream",
     "text": [
      "Your love score is 16\n"
     ]
    }
   ],
   "source": [
    "love_score=random.randint(1,100)\n",
    "print(f'Your love score is {love_score}')"
   ]
  },
  {
   "cell_type": "code",
   "execution_count": 24,
   "metadata": {},
   "outputs": [
    {
     "name": "stdout",
     "output_type": "stream",
     "text": [
      "Create a seed number: 12\n",
      "Heads\n"
     ]
    }
   ],
   "source": [
    "#Remember to use the random module\n",
    "#Hint: Remember to import the random module here at the top of the file. 🎲\n",
    "import random\t \n",
    "# 🚨 Don't change the code below 👇\n",
    "test_seed = int(input(\"Create a seed number: \"))\n",
    "random.seed(test_seed)\n",
    " # 🚨 Don't change the code above 👆 It's only for testing your code.\n",
    "\t \n",
    "#Write the rest of your code below this line 👇\n",
    "random=random.randint(0,1)\n",
    "if random==0:\n",
    "    print('Tails')\n",
    "else:\n",
    "    print('Heads')"
   ]
  },
  {
   "cell_type": "code",
   "execution_count": 25,
   "metadata": {},
   "outputs": [
    {
     "name": "stdout",
     "output_type": "stream",
     "text": [
      "Delaware\n"
     ]
    }
   ],
   "source": [
    "# list\n",
    "state = ['Delaware','India','Amerika','patna']\n",
    "print(state[0])    "
   ]
  },
  {
   "cell_type": "code",
   "execution_count": 26,
   "metadata": {},
   "outputs": [
    {
     "data": {
      "text/plain": [
       "'Patna'"
      ]
     },
     "execution_count": 26,
     "metadata": {},
     "output_type": "execute_result"
    }
   ],
   "source": [
    "#change(replace) in the list\n",
    "state[-1]='Patna'\n",
    "state[-1]"
   ]
  },
  {
   "cell_type": "code",
   "execution_count": 27,
   "metadata": {},
   "outputs": [],
   "source": [
    "state.extend(['Chindigard','mumbai'])"
   ]
  },
  {
   "cell_type": "code",
   "execution_count": 28,
   "metadata": {},
   "outputs": [
    {
     "data": {
      "text/plain": [
       "['Delaware', 'India', 'Amerika', 'Patna', 'Chindigard', 'mumbai']"
      ]
     },
     "execution_count": 28,
     "metadata": {},
     "output_type": "execute_result"
    }
   ],
   "source": [
    "state"
   ]
  },
  {
   "cell_type": "code",
   "execution_count": 29,
   "metadata": {},
   "outputs": [
    {
     "name": "stdout",
     "output_type": "stream",
     "text": [
      "Create a seed number: 12\n",
      "Give me everybody's names, separated by a comma. 12\n",
      "12 is going to buy the meal today!\n"
     ]
    }
   ],
   "source": [
    "import random\n",
    "# 🚨 Don't change the code below 👇\n",
    "test_seed = int(input(\"Create a seed number: \"))\n",
    "random.seed(test_seed)\n",
    "\n",
    "# Split string method\n",
    "names_string = input(\"Give me everybody's names, separated by a comma. \")\n",
    "names = names_string.split(\", \")\n",
    "# 🚨 Don't change the code above 👆\n",
    "\n",
    "#Write your code below this line 👇\n",
    "num_of_len=(len(names))\n",
    "random_choice=random.randint(0,num_of_len-1)\n",
    "print(f'{names[random_choice]} is going to buy the meal today!')\n"
   ]
  },
  {
   "cell_type": "code",
   "execution_count": 30,
   "metadata": {},
   "outputs": [
    {
     "data": {
      "text/plain": [
       "6"
      ]
     },
     "execution_count": 30,
     "metadata": {},
     "output_type": "execute_result"
    }
   ],
   "source": [
    "len(state)"
   ]
  },
  {
   "cell_type": "code",
   "execution_count": 31,
   "metadata": {},
   "outputs": [
    {
     "name": "stdout",
     "output_type": "stream",
     "text": [
      "What do you choose? Type 0 for Rock, 1 for Paper or 2 for Scissors.1\n",
      "\n",
      "    _______\n",
      "---'   ____)____\n",
      "          ______)\n",
      "       __________)\n",
      "      (____)\n",
      "---.__(___)\n",
      "\n",
      "computer choice:1\n",
      "\n",
      "    _______\n",
      "---'   ____)____\n",
      "          ______)\n",
      "       __________)\n",
      "      (____)\n",
      "---.__(___)\n",
      "\n",
      "It's a draw\n"
     ]
    }
   ],
   "source": [
    "import random\n",
    "rock=\"\"\"\n",
    "    _______\n",
    "---'   ____)\n",
    "      (_____)\n",
    "      (_____)\n",
    "      (____)\n",
    "---.__(___)\n",
    "\"\"\"\n",
    "    \n",
    "paper=\"\"\"\n",
    "     _______\n",
    "---'    ____)____\n",
    "           ______)\n",
    "          _______)\n",
    "         _______)\n",
    "---.__________)\n",
    "\"\"\"\n",
    "\n",
    "scissors=\"\"\"\n",
    "    _______\n",
    "---'   ____)____\n",
    "          ______)\n",
    "       __________)\n",
    "      (____)\n",
    "---.__(___)\n",
    "\"\"\"\n",
    "game_image=[rock,scissors,paper]\n",
    "\n",
    "user_choice=int(input('What do you choose? Type 0 for Rock, 1 for Paper or 2 for Scissors.'))\n",
    "if user_choice>3 or user_choice<0:\n",
    "    print('You typed an invalid number, you lose!')\n",
    "else:\n",
    "    print(game_image[user_choice])\n",
    "    computer_choice=random.randint(0,2)\n",
    "    print(f'computer choice:{computer_choice}')\n",
    "    print(game_image[computer_choice])\n",
    "    #print(f'computer choice {computer_choice}')\n",
    "    \n",
    "    if user_choice==0 and computer_choice==2:\n",
    "        print(\"You win!\")\n",
    "    elif computer_choice==2 and user_choice==0:\n",
    "        print(\"You lose\")\n",
    "    elif computer_choice<user_choice:\n",
    "        print('you win!')\n",
    "    elif computer_choice>user_choice:\n",
    "        print('you lose')\n",
    "    elif computer_choice==user_choice:\n",
    "        print('It\\'s a draw')\n"
   ]
  },
  {
   "cell_type": "markdown",
   "metadata": {},
   "source": [
    "#### day- 5"
   ]
  },
  {
   "cell_type": "code",
   "execution_count": 32,
   "metadata": {},
   "outputs": [
    {
     "name": "stdout",
     "output_type": "stream",
     "text": [
      "130\n"
     ]
    }
   ],
   "source": [
    "student_heights =[110,120,130,140,150]\n",
    "sum=0\n",
    "for i in student_heights:\n",
    "    sum=sum+i\n",
    "count=0\n",
    "for i in student_heights:\n",
    "    count=count+1\n",
    "\n",
    "print(round(sum/count))"
   ]
  },
  {
   "cell_type": "code",
   "execution_count": 33,
   "metadata": {},
   "outputs": [
    {
     "name": "stdout",
     "output_type": "stream",
     "text": [
      "The highest score in the class is: 120\n"
     ]
    }
   ],
   "source": [
    "student_scores=[10,20,30,40,50,110,120,90]\n",
    "highest_score=0\n",
    "for score in student_scores:\n",
    "    if score>highest_score:\n",
    "        highest_score=score\n",
    "print(f'The highest score in the class is: {highest_score}')\n"
   ]
  },
  {
   "cell_type": "code",
   "execution_count": 34,
   "metadata": {
    "scrolled": true
   },
   "outputs": [
    {
     "name": "stdout",
     "output_type": "stream",
     "text": [
      "2550\n"
     ]
    }
   ],
   "source": [
    "# sum of all even no 1 to 100\n",
    "sum=0\n",
    "for i in range(2,101,2):\n",
    "    sum=sum+i\n",
    "print(sum)"
   ]
  },
  {
   "cell_type": "code",
   "execution_count": 35,
   "metadata": {},
   "outputs": [
    {
     "name": "stdout",
     "output_type": "stream",
     "text": [
      "1\n",
      "2\n",
      "Fizz\n",
      "4\n",
      "Buzz\n",
      "Fizz\n",
      "7\n",
      "8\n",
      "Fizz\n",
      "Buzz\n",
      "11\n",
      "Fizz\n",
      "13\n",
      "14\n",
      "FizzBuzz\n",
      "16\n",
      "17\n",
      "Fizz\n",
      "19\n",
      "Buzz\n",
      "Fizz\n",
      "22\n",
      "23\n",
      "Fizz\n",
      "Buzz\n",
      "26\n",
      "Fizz\n",
      "28\n",
      "29\n",
      "FizzBuzz\n",
      "31\n",
      "32\n",
      "Fizz\n",
      "34\n",
      "Buzz\n",
      "Fizz\n",
      "37\n",
      "38\n",
      "Fizz\n",
      "Buzz\n",
      "41\n",
      "Fizz\n",
      "43\n",
      "44\n",
      "FizzBuzz\n",
      "46\n",
      "47\n",
      "Fizz\n",
      "49\n",
      "Buzz\n",
      "Fizz\n",
      "52\n",
      "53\n",
      "Fizz\n",
      "Buzz\n",
      "56\n",
      "Fizz\n",
      "58\n",
      "59\n",
      "FizzBuzz\n",
      "61\n",
      "62\n",
      "Fizz\n",
      "64\n",
      "Buzz\n",
      "Fizz\n",
      "67\n",
      "68\n",
      "Fizz\n",
      "Buzz\n",
      "71\n",
      "Fizz\n",
      "73\n",
      "74\n",
      "FizzBuzz\n",
      "76\n",
      "77\n",
      "Fizz\n",
      "79\n",
      "Buzz\n",
      "Fizz\n",
      "82\n",
      "83\n",
      "Fizz\n",
      "Buzz\n",
      "86\n",
      "Fizz\n",
      "88\n",
      "89\n",
      "FizzBuzz\n",
      "91\n",
      "92\n",
      "Fizz\n",
      "94\n",
      "Buzz\n",
      "Fizz\n",
      "97\n",
      "98\n",
      "Fizz\n",
      "Buzz\n"
     ]
    }
   ],
   "source": [
    "\n",
    "for i in range(1,101):\n",
    "    if i%3==0 and i%5==0:\n",
    "        print('FizzBuzz')\n",
    "    elif i%3==0:\n",
    "        print('Fizz')\n",
    "    elif i%5==0:\n",
    "        print('Buzz')\n",
    "    else:\n",
    "        print(i)"
   ]
  },
  {
   "cell_type": "code",
   "execution_count": 37,
   "metadata": {},
   "outputs": [
    {
     "name": "stdout",
     "output_type": "stream",
     "text": [
      "Welcome to the PyPassword Generator!\n",
      "How many letters would you like in your password?\n",
      "2\n",
      "How many symbols would you like?\n",
      "2\n",
      "How many numbers would you like?\n",
      "2\n",
      "sn($60\n"
     ]
    }
   ],
   "source": [
    "#password-generator(easy)\n",
    "import random\n",
    "letters=['a','b','c','d','e','f','g','f','g','h','h','i','j','k','l','m','n','o','p','q','r','s','t','u','v','w','x','y','z']\n",
    "\n",
    "numbers=['0','1','2','3','4','5','6','7','8']\n",
    "\n",
    "symbols=['!','#','$','%','&','(',')','*','+']\n",
    "\n",
    "print('Welcome to the PyPassword Generator!')\n",
    "\n",
    "nr_letters=int(input(\"How many letters would you like in your password?\\n\"))\n",
    "nr_symbols=int(input(f'How many symbols would you like?\\n'))\n",
    "nr_numbers=int(input(f'How many numbers would you like?\\n'))\n",
    "\n",
    "password=\"\"\n",
    "\n",
    "for char in range(1,nr_letters+1):\n",
    "    password+=random.choice(letters)\n",
    "for char in range(1,nr_symbols+1):\n",
    "    password+=random.choice(symbols)\n",
    "for char in range(1,nr_numbers+1):\n",
    "    password+=random.choice(numbers)\n",
    "print(password)\n"
   ]
  },
  {
   "cell_type": "code",
   "execution_count": 38,
   "metadata": {},
   "outputs": [
    {
     "name": "stdout",
     "output_type": "stream",
     "text": [
      "Welcome to the PyPassword Generator!\n",
      "How many letters would you like in your password?\n",
      "3\n",
      "How many symbols would you like?\n",
      "3\n",
      "How many numbers would you like?\n",
      "3\n",
      "['i', 'm', 'g', '*', '%', '+', '0', '2', '7']\n",
      "['0', '*', '%', '7', 'i', 'm', '2', 'g', '+']\n",
      "Your password is: 0*%7im2g+\n"
     ]
    }
   ],
   "source": [
    "#password-generator(hard)\n",
    "import random\n",
    "letters=['a','b','c','d','e','f','g','f','g','h','h','i','j','k','l','m','n','o','p','q','r','s','t','u','v','w','x','y','z']\n",
    "\n",
    "numbers=['0','1','2','3','4','5','6','7','8']\n",
    "\n",
    "symbols=['!','#','$','%','&','(',')','*','+']\n",
    "\n",
    "print('Welcome to the PyPassword Generator!')\n",
    "\n",
    "nr_letters=int(input(\"How many letters would you like in your password?\\n\"))\n",
    "nr_symbols=int(input(f'How many symbols would you like?\\n'))\n",
    "nr_numbers=int(input(f'How many numbers would you like?\\n'))\n",
    "\n",
    "password_list=[]\n",
    "\n",
    "for char in range(1,nr_letters+1):\n",
    "    password_list+=random.choice(letters)\n",
    "    \n",
    "for char in range(1,nr_symbols+1):\n",
    "    password_list+=random.choice(symbols)\n",
    "    \n",
    "for char in range(1,nr_numbers+1):\n",
    "    password_list+=random.choice(numbers)\n",
    "    \n",
    "print(password_list)\n",
    "random.shuffle(password_list)\n",
    "print(password_list)\n",
    "\n",
    "password=''\n",
    "for char in password_list:\n",
    "    password+=char\n",
    "print(f\"Your password is: {password}\")"
   ]
  },
  {
   "cell_type": "markdown",
   "metadata": {},
   "source": [
    "#### Day - 7"
   ]
  },
  {
   "cell_type": "code",
   "execution_count": 39,
   "metadata": {},
   "outputs": [
    {
     "name": "stdout",
     "output_type": "stream",
     "text": [
      " \n",
      " _                                             \n",
      "| |                                            \n",
      "| |__   __ _ _ __   __ _ _ __ ___   __ _ _ __  \n",
      "| '_ \\ / _` | '_ \\ / _` | '_ ` _ \\ / _` | '_ \\ \n",
      "| | | | (_| | | | | (_| | | | | | | (_| | | | |\n",
      "|_| |_|\\__,_|_| |_|\\__, |_| |_| |_|\\__,_|_| |_|\n",
      "                    __/ |                      \n",
      "                   |___/    \n",
      "randomly, chooch by computer is unknown\n",
      "guess a letter: a\n",
      "you gussed a, that\"s not in the word. You lose a life.\n",
      "_ _ _ _ _ _ _\n",
      "\n",
      "  +---+\n",
      "  |   |\n",
      "  O   |\n",
      "      |\n",
      "      |\n",
      "      |\n",
      "=========\n",
      "\n",
      "guess a letter: r\n",
      "you gussed r, that\"s not in the word. You lose a life.\n",
      "_ _ _ _ _ _ _\n",
      "\n",
      "  +---+\n",
      "  |   |\n",
      "  O   |\n",
      "  |   |\n",
      "      |\n",
      "      |\n",
      "=========\n",
      "\n",
      "guess a letter: e\n",
      "you gussed e, that\"s not in the word. You lose a life.\n",
      "_ _ _ _ _ _ _\n",
      "\n",
      "  +---+\n",
      "  |   |\n",
      "  O   |\n",
      " /|   |\n",
      "      |\n",
      "      |\n",
      "=========\n",
      "guess a letter: s\n",
      "you gussed s, that\"s not in the word. You lose a life.\n",
      "_ _ _ _ _ _ _\n",
      "\n",
      "  +---+\n",
      "  |   |\n",
      "  O   |\n",
      " /|\\  |\n",
      "      |\n",
      "      |\n",
      "=========\n",
      "\n",
      "guess a letter: e\n",
      "you gussed e, that\"s not in the word. You lose a life.\n",
      "_ _ _ _ _ _ _\n",
      "\n",
      "  +---+\n",
      "  |   |\n",
      "  O   |\n",
      " /|\\  |\n",
      " /    |\n",
      "      |\n",
      "=========\n",
      "\n",
      "guess a letter: e\n",
      "you gussed e, that\"s not in the word. You lose a life.\n",
      "You lose\n",
      "_ _ _ _ _ _ _\n",
      "\n",
      "  +---+\n",
      "  |   |\n",
      "  O   |\n",
      " /|\\  |\n",
      " / \\  |\n",
      "      |\n",
      "=========\n",
      "\n",
      "guess a letter: ew\n",
      "you gussed ew, that\"s not in the word. You lose a life.\n",
      "_ _ _ _ _ _ _\n",
      "\n",
      "  +---+\n",
      "  |   |\n",
      "      |\n",
      "      |\n",
      "      |\n",
      "      |\n",
      "=========\n",
      "\n",
      "guess a letter: f\n",
      "you gussed f, that\"s not in the word. You lose a life.\n",
      "_ _ _ _ _ _ _\n",
      "\n",
      "  +---+\n",
      "  |   |\n",
      "  O   |\n",
      "      |\n",
      "      |\n",
      "      |\n",
      "=========\n",
      "\n"
     ]
    },
    {
     "ename": "KeyboardInterrupt",
     "evalue": "Interrupted by user",
     "output_type": "error",
     "traceback": [
      "\u001b[1;31m---------------------------------------------------------------------------\u001b[0m",
      "\u001b[1;31mKeyboardInterrupt\u001b[0m                         Traceback (most recent call last)",
      "\u001b[1;32m<ipython-input-39-f17154fd23b4>\u001b[0m in \u001b[0;36m<module>\u001b[1;34m\u001b[0m\n\u001b[0;32m     99\u001b[0m \u001b[1;33m\u001b[0m\u001b[0m\n\u001b[0;32m    100\u001b[0m \u001b[1;32mwhile\u001b[0m \u001b[1;32mnot\u001b[0m \u001b[0mend_of_gamme\u001b[0m\u001b[1;33m:\u001b[0m\u001b[1;33m\u001b[0m\u001b[1;33m\u001b[0m\u001b[0m\n\u001b[1;32m--> 101\u001b[1;33m     \u001b[0mguess\u001b[0m\u001b[1;33m=\u001b[0m\u001b[0minput\u001b[0m\u001b[1;33m(\u001b[0m\u001b[1;34m'guess a letter: '\u001b[0m\u001b[1;33m)\u001b[0m\u001b[1;33m.\u001b[0m\u001b[0mlower\u001b[0m\u001b[1;33m(\u001b[0m\u001b[1;33m)\u001b[0m\u001b[1;33m\u001b[0m\u001b[1;33m\u001b[0m\u001b[0m\n\u001b[0m\u001b[0;32m    102\u001b[0m \u001b[1;33m\u001b[0m\u001b[0m\n\u001b[0;32m    103\u001b[0m     \u001b[1;32mif\u001b[0m \u001b[0mguess\u001b[0m \u001b[1;32min\u001b[0m \u001b[0mdisplay\u001b[0m\u001b[1;33m:\u001b[0m\u001b[1;33m\u001b[0m\u001b[1;33m\u001b[0m\u001b[0m\n",
      "\u001b[1;32m~\\anaconda3\\lib\\site-packages\\ipykernel\\kernelbase.py\u001b[0m in \u001b[0;36mraw_input\u001b[1;34m(self, prompt)\u001b[0m\n\u001b[0;32m    858\u001b[0m                 \u001b[1;34m\"raw_input was called, but this frontend does not support input requests.\"\u001b[0m\u001b[1;33m\u001b[0m\u001b[1;33m\u001b[0m\u001b[0m\n\u001b[0;32m    859\u001b[0m             )\n\u001b[1;32m--> 860\u001b[1;33m         return self._input_request(str(prompt),\n\u001b[0m\u001b[0;32m    861\u001b[0m             \u001b[0mself\u001b[0m\u001b[1;33m.\u001b[0m\u001b[0m_parent_ident\u001b[0m\u001b[1;33m,\u001b[0m\u001b[1;33m\u001b[0m\u001b[1;33m\u001b[0m\u001b[0m\n\u001b[0;32m    862\u001b[0m             \u001b[0mself\u001b[0m\u001b[1;33m.\u001b[0m\u001b[0m_parent_header\u001b[0m\u001b[1;33m,\u001b[0m\u001b[1;33m\u001b[0m\u001b[1;33m\u001b[0m\u001b[0m\n",
      "\u001b[1;32m~\\anaconda3\\lib\\site-packages\\ipykernel\\kernelbase.py\u001b[0m in \u001b[0;36m_input_request\u001b[1;34m(self, prompt, ident, parent, password)\u001b[0m\n\u001b[0;32m    902\u001b[0m             \u001b[1;32mexcept\u001b[0m \u001b[0mKeyboardInterrupt\u001b[0m\u001b[1;33m:\u001b[0m\u001b[1;33m\u001b[0m\u001b[1;33m\u001b[0m\u001b[0m\n\u001b[0;32m    903\u001b[0m                 \u001b[1;31m# re-raise KeyboardInterrupt, to truncate traceback\u001b[0m\u001b[1;33m\u001b[0m\u001b[1;33m\u001b[0m\u001b[1;33m\u001b[0m\u001b[0m\n\u001b[1;32m--> 904\u001b[1;33m                 \u001b[1;32mraise\u001b[0m \u001b[0mKeyboardInterrupt\u001b[0m\u001b[1;33m(\u001b[0m\u001b[1;34m\"Interrupted by user\"\u001b[0m\u001b[1;33m)\u001b[0m \u001b[1;32mfrom\u001b[0m \u001b[1;32mNone\u001b[0m\u001b[1;33m\u001b[0m\u001b[1;33m\u001b[0m\u001b[0m\n\u001b[0m\u001b[0;32m    905\u001b[0m             \u001b[1;32mexcept\u001b[0m \u001b[0mException\u001b[0m \u001b[1;32mas\u001b[0m \u001b[0me\u001b[0m\u001b[1;33m:\u001b[0m\u001b[1;33m\u001b[0m\u001b[1;33m\u001b[0m\u001b[0m\n\u001b[0;32m    906\u001b[0m                 \u001b[0mself\u001b[0m\u001b[1;33m.\u001b[0m\u001b[0mlog\u001b[0m\u001b[1;33m.\u001b[0m\u001b[0mwarning\u001b[0m\u001b[1;33m(\u001b[0m\u001b[1;34m\"Invalid Message:\"\u001b[0m\u001b[1;33m,\u001b[0m \u001b[0mexc_info\u001b[0m\u001b[1;33m=\u001b[0m\u001b[1;32mTrue\u001b[0m\u001b[1;33m)\u001b[0m\u001b[1;33m\u001b[0m\u001b[1;33m\u001b[0m\u001b[0m\n",
      "\u001b[1;31mKeyboardInterrupt\u001b[0m: Interrupted by user"
     ]
    }
   ],
   "source": [
    "import random\n",
    "stages = ['''\n",
    "  +---+\n",
    "  |   |\n",
    "  O   |\n",
    " /|\\  |\n",
    " / \\  |\n",
    "      |\n",
    "=========\n",
    "''', '''\n",
    "  +---+\n",
    "  |   |\n",
    "  O   |\n",
    " /|\\  |\n",
    " /    |\n",
    "      |\n",
    "=========\n",
    "''', '''\n",
    "  +---+\n",
    "  |   |\n",
    "  O   |\n",
    " /|\\  |\n",
    "      |\n",
    "      |\n",
    "=========\n",
    "''', '''\n",
    "  +---+\n",
    "  |   |\n",
    "  O   |\n",
    " /|   |\n",
    "      |\n",
    "      |\n",
    "=========''', '''\n",
    "  +---+\n",
    "  |   |\n",
    "  O   |\n",
    "  |   |\n",
    "      |\n",
    "      |\n",
    "=========\n",
    "''', '''\n",
    "  +---+\n",
    "  |   |\n",
    "  O   |\n",
    "      |\n",
    "      |\n",
    "      |\n",
    "=========\n",
    "''', '''\n",
    "  +---+\n",
    "  |   |\n",
    "      |\n",
    "      |\n",
    "      |\n",
    "      |\n",
    "=========\n",
    "''']\n",
    "logo = ''' \n",
    " _                                             \n",
    "| |                                            \n",
    "| |__   __ _ _ __   __ _ _ __ ___   __ _ _ __  \n",
    "| '_ \\ / _` | '_ \\ / _` | '_ ` _ \\ / _` | '_ \\ \n",
    "| | | | (_| | | | | (_| | | | | | | (_| | | | |\n",
    "|_| |_|\\__,_|_| |_|\\__, |_| |_| |_|\\__,_|_| |_|\n",
    "                    __/ |                      \n",
    "                   |___/    '''\n",
    "print(logo)\n",
    "end_of_gamme=False\n",
    "word_list = ['abruptly', 'absurd', 'abyss', 'affix', 'askew','avenue', 'awkward', 'axiom','azure', 'bagpipes', \n",
    "             'bandwagon', 'banjo', 'bayou', 'beekeeper', 'bikini', 'blitz', 'blizzard', 'boggle', 'bookworm', \n",
    "             'boxcar', 'boxful','buckaroo', 'buffalo', 'buffoon', 'buxom', 'buzzard', 'buzzing', 'buzzwords', \n",
    "             'caliph', 'cobweb', 'cockiness', 'croquet', 'crypt', 'curacao', 'cycle', 'daiquiri','dirndl', 'disavow', \n",
    "             'dizzying', 'duplex', 'dwarves', 'embezzle', 'equip', 'espionage', 'euouae', 'exodus', 'faking', \n",
    "             'fishhook', 'fixable', 'fjord', 'flapjack', 'flopping','fluffiness', 'flyby', 'foxglove', 'frazzled', \n",
    "             'frizzled', 'fuchsia', 'funny', 'gabby', 'galaxy', 'galvanize', 'gazebo','giaour', 'gizmo', 'glowworm',\n",
    "             'glyph', 'gnarly', 'gnostic', 'gossip', 'grogginess', 'haiku', 'haphazard', 'hyphen', 'iatrogenic', \n",
    "             'icebox', 'injury', 'ivory', 'ivy', 'jackpot', 'jaundice', 'jawbreaker', 'jaywalk','jazziest', 'jazzy', \n",
    "             'jelly', 'jigsaw', 'jinx', 'jiujitsu', 'jockey', 'jogging', 'joking', 'jovial', 'joyful', 'juicy', \n",
    "             'jukebox', 'jumbo', 'kayak', 'kazoo', 'keyhole', 'khaki', 'kilobyte', 'kiosk', 'kitsch', 'kiwifruit', \n",
    "             'klutz', 'knapsack', 'larynx', 'lengths', 'lucky', 'luxury', 'lymph', 'marquis', 'matrix', 'megahertz', \n",
    "             'microwave', 'mnemonic', 'mystify','naphtha', 'nightclub', 'nowadays', 'numbskull', 'nymph', 'onyx', \n",
    "             'ovary', 'oxidize', 'oxygen', 'pajama', 'peekaboo','phlegm', 'pixel', 'pizazz', 'pneumonia', 'polka','pshaw', \n",
    "             'psyche', 'puppy', 'puzzling', 'quartz', 'queue', 'quips', 'quixotic', 'quiz', 'quizzes', 'quorum', 'razzmatazz',\n",
    "             'rhubarb', 'rhythm', 'rickshaw', 'schnapps','scratch', 'shiv', 'snazzy', 'sphinx', 'spritz', 'squawk', 'staff',\n",
    "             'strength', 'strengths', 'stretch', 'stronghold', 'stymied', 'subway', 'swivel', 'syndrome', 'thriftless', \n",
    "             'thumbscrew', 'topaz', 'transcript', 'transgress', 'transplant', 'triphthong', 'twelfth', 'twelfths', 'unknown',\n",
    "             'unworthy', 'unzip', 'uptown', 'vaporize', 'vixen','vodka', 'voodoo', 'vortex', 'voyeurism', 'walkway', 'waltz',\n",
    "             'wave', 'wavy', 'waxy', 'wellspring', 'wheezy', 'whiskey', 'whizzing', 'whomever', 'wimpy', 'witchcraft', \n",
    "             'wizard', 'woozy', 'wristwatch','wyvern', 'xylophone', 'yachtsman', 'yippee', 'yoked', 'youthful', 'yummy',\n",
    "             'zephyr', 'zigzag', 'zigzagging', 'zilch','zipper', 'zodiac', 'zombie', ]\n",
    "randomly=random.choice(word_list)\n",
    "\n",
    "lives=6\n",
    "print(f'randomly, chooch by computer is {randomly}')\n",
    "\n",
    "display=[]\n",
    "for _ in range(len(randomly)):\n",
    "    display+='_'\n",
    "    \n",
    "while not end_of_gamme:\n",
    "    guess=input('guess a letter: ').lower() \n",
    "    \n",
    "    if guess in display:\n",
    "        print(f\"Youve already gussed {guess}\")\n",
    "    for position in range(len(randomly)):\n",
    "        letter=randomly[position]\n",
    "\n",
    "        #print(f'Current position: {position}\\n Current letter: {letter}\\n Gussed letter: {guess}')\n",
    "        if letter == guess:\n",
    "            display[position]=letter\n",
    "    if guess not in randomly:\n",
    "        print(f'you gussed {guess}, that\"s not in the word. You lose a life.')  \n",
    "        lives-=1\n",
    "        if lives==0:\n",
    "            end_of_game =True\n",
    "            print('You lose')\n",
    "        \n",
    "            \n",
    "    print(f\"{' '.join(display)}\")\n",
    "    \n",
    "    if \"_\" not in display:\n",
    "        end_of_game=True\n",
    "        print('You win.')\n",
    "    print(stages[lives])"
   ]
  },
  {
   "cell_type": "markdown",
   "metadata": {},
   "source": [
    "#### dat - 8"
   ]
  },
  {
   "cell_type": "code",
   "execution_count": 40,
   "metadata": {},
   "outputs": [
    {
     "name": "stdout",
     "output_type": "stream",
     "text": [
      "hello\n",
      "hi\n",
      "ram\n"
     ]
    }
   ],
   "source": [
    "def greet():\n",
    "    print('hello')\n",
    "    print('hi')\n",
    "    print('ram')\n",
    "greet()"
   ]
  },
  {
   "cell_type": "code",
   "execution_count": 41,
   "metadata": {},
   "outputs": [
    {
     "name": "stdout",
     "output_type": "stream",
     "text": [
      "hello Ram\n"
     ]
    }
   ],
   "source": [
    "def greet_with_name(name):\n",
    "    print(f'hello {name}')\n",
    "greet_with_name('Ram')\n"
   ]
  },
  {
   "cell_type": "code",
   "execution_count": 42,
   "metadata": {},
   "outputs": [
    {
     "name": "stdout",
     "output_type": "stream",
     "text": [
      "Hello, rambabu.\n",
      "What is it like in nirmali  \n",
      "Hello, Ram.\n",
      "What is it like in Nirmali\n"
     ]
    }
   ],
   "source": [
    "def greet_with(name,location):\n",
    "    print(f'Hello, {name}.')\n",
    "    print(f'What is it like in {location}')\n",
    "name='rambabu'\n",
    "location='nirmali  '  \n",
    "greet_with(name,location )\n",
    "greet_with(location=\"Nirmali\",name='Ram')"
   ]
  },
  {
   "cell_type": "code",
   "execution_count": 43,
   "metadata": {},
   "outputs": [
    {
     "name": "stdout",
     "output_type": "stream",
     "text": [
      "a: 1\n",
      "b: 2\n",
      "c: 3\n"
     ]
    }
   ],
   "source": [
    "def my_function(a,b,c):\n",
    "    print(f'a: {a}')\n",
    "    print(f'b: {b}')\n",
    "    print(f'c: {c}')\n",
    "my_function(1,2,3)"
   ]
  },
  {
   "cell_type": "code",
   "execution_count": 44,
   "metadata": {},
   "outputs": [
    {
     "name": "stdout",
     "output_type": "stream",
     "text": [
      "not prime\n",
      "prime\n"
     ]
    }
   ],
   "source": [
    "def prime(a):\n",
    "    is_prime=True\n",
    "    for i in range(2,a):\n",
    "        if a%i==0:\n",
    "            is_prime=False\n",
    "    if is_prime:\n",
    "        print('prime')\n",
    "    else:\n",
    "        print('not prime')\n",
    "prime(10)\n",
    "prime(79)"
   ]
  },
  {
   "cell_type": "code",
   "execution_count": 45,
   "metadata": {
    "scrolled": true
   },
   "outputs": [
    {
     "name": "stdout",
     "output_type": "stream",
     "text": [
      "           \n",
      " ,adPPYba, ,adPPYYba,  ,adPPYba, ,adPPYba, ,adPPYYba, 8b,dPPYba,  \n",
      "a8\"     \"\" \"\"     `Y8 a8P_____88 I8[    \"\" \"\"     `Y8 88P'   \"Y8  \n",
      "8b         ,adPPPPP88 8PP\"  `\"Y8ba,  ,adPPPPP88 88          \n",
      "\"8a,   ,aa 88,    ,88 \"8b,   ,aa aa    ]8I 88,    ,88 88          \n",
      " `\"Ybbd8\"' `\"8bbdP\"Y8  `\"Ybbd8\"' `\"YbbdP\"' `\"8bbdP\"Y8 88   \n",
      "            88             88                                 \n",
      "           \"\"             88                                 \n",
      "                          88                                 \n",
      " ,adPPYba, 88 8b,dPPYba,  88,dPPYba,   ,adPPYba, 8b,dPPYba,  \n",
      "a8\"     \"\" 88 88P'    \"8a 88P'    \"8a a8P_____88 88P'   \"Y8  \n",
      "8b         88 88       d8 88       88 8PP\" 88          \n",
      "\"8a,   ,aa 88 88b,   ,a8\" 88       88 \"8b,   ,aa 88          \n",
      " `\"Ybbd8\"' 88 88`YbbdP\"'  88       88  `\"Ybbd8\"' 88          \n",
      "              88                                             \n",
      "              88           \n",
      "\n",
      "Type 'encode' to encrypt, type 'decode' to decrypt:\n",
      "encode\n",
      "Type your message:\n",
      "\n",
      "Type the sift number:\n",
      "32\n",
      "The encoded text is \n",
      "Type \"yes\" if you want to go again. Otherwise type \"no\".\n",
      "yes\n",
      "Type 'encode' to encrypt, type 'decode' to decrypt:\n",
      "encode\n",
      "Type your message:\n",
      "ew\n"
     ]
    },
    {
     "ename": "KeyboardInterrupt",
     "evalue": "Interrupted by user",
     "output_type": "error",
     "traceback": [
      "\u001b[1;31m---------------------------------------------------------------------------\u001b[0m",
      "\u001b[1;31mKeyboardInterrupt\u001b[0m                         Traceback (most recent call last)",
      "\u001b[1;32m<ipython-input-45-401d165d732d>\u001b[0m in \u001b[0;36m<module>\u001b[1;34m\u001b[0m\n\u001b[0;32m     38\u001b[0m     \u001b[0mdirection\u001b[0m\u001b[1;33m=\u001b[0m\u001b[0minput\u001b[0m\u001b[1;33m(\u001b[0m\u001b[1;34m\"Type 'encode' to encrypt, type 'decode' to decrypt:\\n\"\u001b[0m\u001b[1;33m)\u001b[0m\u001b[1;33m\u001b[0m\u001b[1;33m\u001b[0m\u001b[0m\n\u001b[0;32m     39\u001b[0m     \u001b[0mtext\u001b[0m\u001b[1;33m=\u001b[0m\u001b[0minput\u001b[0m\u001b[1;33m(\u001b[0m\u001b[1;34m\"Type your message:\\n\"\u001b[0m\u001b[1;33m)\u001b[0m\u001b[1;33m.\u001b[0m\u001b[0mlower\u001b[0m\u001b[1;33m(\u001b[0m\u001b[1;33m)\u001b[0m\u001b[1;33m\u001b[0m\u001b[1;33m\u001b[0m\u001b[0m\n\u001b[1;32m---> 40\u001b[1;33m     \u001b[0mshift\u001b[0m\u001b[1;33m=\u001b[0m\u001b[0mint\u001b[0m\u001b[1;33m(\u001b[0m\u001b[0minput\u001b[0m\u001b[1;33m(\u001b[0m\u001b[1;34m\"Type the sift number:\\n\"\u001b[0m\u001b[1;33m)\u001b[0m\u001b[1;33m)\u001b[0m\u001b[1;33m\u001b[0m\u001b[1;33m\u001b[0m\u001b[0m\n\u001b[0m\u001b[0;32m     41\u001b[0m     \u001b[0mcaesar\u001b[0m\u001b[1;33m(\u001b[0m\u001b[0mstart_text\u001b[0m\u001b[1;33m=\u001b[0m\u001b[0mtext\u001b[0m\u001b[1;33m,\u001b[0m\u001b[0mshift_amount\u001b[0m\u001b[1;33m=\u001b[0m\u001b[0mshift\u001b[0m\u001b[1;33m,\u001b[0m\u001b[0mcipher_direction\u001b[0m\u001b[1;33m=\u001b[0m\u001b[0mdirection\u001b[0m\u001b[1;33m)\u001b[0m\u001b[1;33m\u001b[0m\u001b[1;33m\u001b[0m\u001b[0m\n\u001b[0;32m     42\u001b[0m     \u001b[0mresult\u001b[0m\u001b[1;33m=\u001b[0m\u001b[0minput\u001b[0m\u001b[1;33m(\u001b[0m\u001b[1;34m'Type \"yes\" if you want to go again. Otherwise type \"no\".\\n'\u001b[0m\u001b[1;33m)\u001b[0m\u001b[1;33m\u001b[0m\u001b[1;33m\u001b[0m\u001b[0m\n",
      "\u001b[1;32m~\\anaconda3\\lib\\site-packages\\ipykernel\\kernelbase.py\u001b[0m in \u001b[0;36mraw_input\u001b[1;34m(self, prompt)\u001b[0m\n\u001b[0;32m    858\u001b[0m                 \u001b[1;34m\"raw_input was called, but this frontend does not support input requests.\"\u001b[0m\u001b[1;33m\u001b[0m\u001b[1;33m\u001b[0m\u001b[0m\n\u001b[0;32m    859\u001b[0m             )\n\u001b[1;32m--> 860\u001b[1;33m         return self._input_request(str(prompt),\n\u001b[0m\u001b[0;32m    861\u001b[0m             \u001b[0mself\u001b[0m\u001b[1;33m.\u001b[0m\u001b[0m_parent_ident\u001b[0m\u001b[1;33m,\u001b[0m\u001b[1;33m\u001b[0m\u001b[1;33m\u001b[0m\u001b[0m\n\u001b[0;32m    862\u001b[0m             \u001b[0mself\u001b[0m\u001b[1;33m.\u001b[0m\u001b[0m_parent_header\u001b[0m\u001b[1;33m,\u001b[0m\u001b[1;33m\u001b[0m\u001b[1;33m\u001b[0m\u001b[0m\n",
      "\u001b[1;32m~\\anaconda3\\lib\\site-packages\\ipykernel\\kernelbase.py\u001b[0m in \u001b[0;36m_input_request\u001b[1;34m(self, prompt, ident, parent, password)\u001b[0m\n\u001b[0;32m    902\u001b[0m             \u001b[1;32mexcept\u001b[0m \u001b[0mKeyboardInterrupt\u001b[0m\u001b[1;33m:\u001b[0m\u001b[1;33m\u001b[0m\u001b[1;33m\u001b[0m\u001b[0m\n\u001b[0;32m    903\u001b[0m                 \u001b[1;31m# re-raise KeyboardInterrupt, to truncate traceback\u001b[0m\u001b[1;33m\u001b[0m\u001b[1;33m\u001b[0m\u001b[1;33m\u001b[0m\u001b[0m\n\u001b[1;32m--> 904\u001b[1;33m                 \u001b[1;32mraise\u001b[0m \u001b[0mKeyboardInterrupt\u001b[0m\u001b[1;33m(\u001b[0m\u001b[1;34m\"Interrupted by user\"\u001b[0m\u001b[1;33m)\u001b[0m \u001b[1;32mfrom\u001b[0m \u001b[1;32mNone\u001b[0m\u001b[1;33m\u001b[0m\u001b[1;33m\u001b[0m\u001b[0m\n\u001b[0m\u001b[0;32m    905\u001b[0m             \u001b[1;32mexcept\u001b[0m \u001b[0mException\u001b[0m \u001b[1;32mas\u001b[0m \u001b[0me\u001b[0m\u001b[1;33m:\u001b[0m\u001b[1;33m\u001b[0m\u001b[1;33m\u001b[0m\u001b[0m\n\u001b[0;32m    906\u001b[0m                 \u001b[0mself\u001b[0m\u001b[1;33m.\u001b[0m\u001b[0mlog\u001b[0m\u001b[1;33m.\u001b[0m\u001b[0mwarning\u001b[0m\u001b[1;33m(\u001b[0m\u001b[1;34m\"Invalid Message:\"\u001b[0m\u001b[1;33m,\u001b[0m \u001b[0mexc_info\u001b[0m\u001b[1;33m=\u001b[0m\u001b[1;32mTrue\u001b[0m\u001b[1;33m)\u001b[0m\u001b[1;33m\u001b[0m\u001b[1;33m\u001b[0m\u001b[0m\n",
      "\u001b[1;31mKeyboardInterrupt\u001b[0m: Interrupted by user"
     ]
    }
   ],
   "source": [
    "logo = \"\"\"           \n",
    " ,adPPYba, ,adPPYYba,  ,adPPYba, ,adPPYba, ,adPPYYba, 8b,dPPYba,  \n",
    "a8\"     \"\" \"\"     `Y8 a8P_____88 I8[    \"\" \"\"     `Y8 88P'   \"Y8  \n",
    "8b         ,adPPPPP88 8PP\"\"\"\"\"\"\"  `\"Y8ba,  ,adPPPPP88 88          \n",
    "\"8a,   ,aa 88,    ,88 \"8b,   ,aa aa    ]8I 88,    ,88 88          \n",
    " `\"Ybbd8\"' `\"8bbdP\"Y8  `\"Ybbd8\"' `\"YbbdP\"' `\"8bbdP\"Y8 88   \n",
    "            88             88                                 \n",
    "           \"\"             88                                 \n",
    "                          88                                 \n",
    " ,adPPYba, 88 8b,dPPYba,  88,dPPYba,   ,adPPYba, 8b,dPPYba,  \n",
    "a8\"     \"\" 88 88P'    \"8a 88P'    \"8a a8P_____88 88P'   \"Y8  \n",
    "8b         88 88       d8 88       88 8PP\"\"\"\"\"\"\" 88          \n",
    "\"8a,   ,aa 88 88b,   ,a8\" 88       88 \"8b,   ,aa 88          \n",
    " `\"Ybbd8\"' 88 88`YbbdP\"'  88       88  `\"Ybbd8\"' 88          \n",
    "              88                                             \n",
    "              88           \n",
    "\"\"\"\n",
    "\n",
    "\n",
    "\n",
    "def  caesar(start_text,shift_amount,cipher_direction):\n",
    "    end_text=\"\"\n",
    "    if cipher_direction=='decode':\n",
    "            shift_amount*=-1\n",
    "    for char in start_text:\n",
    "        if char in alphabet:\n",
    "            position=alphabet.index(char)\n",
    "            new_position=position+shift_amount\n",
    "            end_text+=alphabet[new_position]\n",
    "        else:\n",
    "            end_text+=char\n",
    "    print(f'The {cipher_direction}d text is {end_text}')\n",
    "alphabet=['a','b','c','d','e','f','g','f','g','h','i','j','k','l','m','n','o','p','q','r','s','t','u','v','w','x','y','z']\n",
    "print(logo)\n",
    "should_continue=True\n",
    "while should_continue:\n",
    "    \n",
    "    direction=input(\"Type 'encode' to encrypt, type 'decode' to decrypt:\\n\")\n",
    "    text=input(\"Type your message:\\n\").lower()\n",
    "    shift=int(input(\"Type the sift number:\\n\"))\n",
    "    caesar(start_text=text,shift_amount=shift,cipher_direction=direction)\n",
    "    result=input('Type \"yes\" if you want to go again. Otherwise type \"no\".\\n')\n",
    "    if result =='no':\n",
    "        should_continue=False\n",
    "        print(\"Goodbye\")"
   ]
  },
  {
   "cell_type": "markdown",
   "metadata": {},
   "source": [
    "#### day - 9"
   ]
  },
  {
   "cell_type": "code",
   "execution_count": 46,
   "metadata": {},
   "outputs": [
    {
     "name": "stdout",
     "output_type": "stream",
     "text": [
      "An error in a program that prevents the program from running as expected.\n",
      "{'Bug': 'An error in a program that prevents the program from running as expected.', 'Function': 'A piece of code that you can easily call over again.', 'Loop': 'The action of doing something over and over again'}\n"
     ]
    }
   ],
   "source": [
    "programming_dictionary={\n",
    "    \"Bug\":\"An error in a program that prevents the program from running as expected.\",\n",
    "     \"Function\":\"A piece of code that you can easily call over again.\"\n",
    "    }\n",
    "print(programming_dictionary[\"Bug\"])\n",
    "programming_dictionary[\"Loop\"]=\"The action of doing something over and over again\"\n",
    "print(programming_dictionary)"
   ]
  },
  {
   "cell_type": "code",
   "execution_count": 47,
   "metadata": {},
   "outputs": [
    {
     "name": "stdout",
     "output_type": "stream",
     "text": [
      "{'Bug': 'A moth in your computer.', 'Function': 'A piece of code that you can easily call over again.', 'Loop': 'The action of doing something over and over again'}\n",
      "Bug\n",
      "A moth in your computer.\n",
      "Function\n",
      "A piece of code that you can easily call over again.\n",
      "Loop\n",
      "The action of doing something over and over again\n"
     ]
    }
   ],
   "source": [
    "programming_dictionary[\"Bug\"]=\"A moth in your computer.\"\n",
    "print(programming_dictionary)\n",
    "for key in programming_dictionary:\n",
    "    print(key)\n",
    "    print(programming_dictionary[key])"
   ]
  },
  {
   "cell_type": "code",
   "execution_count": 48,
   "metadata": {},
   "outputs": [
    {
     "name": "stdout",
     "output_type": "stream",
     "text": [
      "{'Harry': 'Exceeds Expectations', 'Ron': 'Acceptable', 'Hermione': 'Outstanding', 'Draco': 'Acceptable', 'Neville': 'fail'}\n"
     ]
    }
   ],
   "source": [
    "student_scores = {\n",
    "  \"Harry\": 81,\n",
    "  \"Ron\": 78,\n",
    "  \"Hermione\": 99, \n",
    "  \"Draco\": 74,\n",
    "  \"Neville\": 62,\n",
    "}\n",
    "# 🚨 Don't change the code above 👆\n",
    "\n",
    "#TODO-1: Create an empty dictionary called student_grades.\n",
    "student_grades={}\n",
    "#TODO-2: Write your code below to add the grades to student_grades.👇\n",
    "for student in student_scores:\n",
    "    score=student_scores[student]\n",
    "    if score>90:\n",
    "        student_grades[student]='Outstanding'\n",
    "    elif score>80:\n",
    "        student_grades[student]='Exceeds Expectations'\n",
    "    elif score>70:\n",
    "        student_grades[student]='Acceptable'\n",
    "    else:\n",
    "        student_grades[student]='fail'\n",
    "\n",
    "\n",
    "# 🚨 Don't change the code below 👇\n",
    "print(student_grades)"
   ]
  },
  {
   "cell_type": "code",
   "execution_count": 49,
   "metadata": {},
   "outputs": [
    {
     "name": "stdout",
     "output_type": "stream",
     "text": [
      "[{'country': 'France', 'cities_visited': ['Paris', 'Lille', 'Dijon'], 'total_visits': 12}, {'country': 'Germany', 'cities_visited': ['Berlin', 'Hamburg', 'Stuttgart'], 'total_visits': 5}]\n"
     ]
    }
   ],
   "source": [
    "#Nesting\n",
    "capitals={\n",
    "    \"France\":\"Paris\",\n",
    "    \"Germany\":\"Berlin\"\n",
    "}\n",
    "#Nesting Dictionary in a Dictionary\n",
    "travel_log={\"France\":{\"cities_visited\":[\"Paris\",\"Lille\",\"Dijon\"],\n",
    "                      \"total_visits\":12},\n",
    "           \"Germany\":{\"cities_visited\":[\"Berlin\",\"Hamburg\",\"Stuttgart\"],\n",
    "                      \"total_visits\":5}\n",
    "           }\n",
    "#Nesting Dictionary in a list\n",
    "\n",
    "\n",
    "travel_log=[\n",
    "    {\"country\":\"France\",\n",
    "     \"cities_visited\":[\"Paris\",\"Lille\",\"Dijon\"],\n",
    "     \"total_visits\":12},\n",
    "    {\"country\":\"Germany\",\n",
    "     \"cities_visited\":[\"Berlin\",\"Hamburg\",\"Stuttgart\"],\n",
    "     \"total_visits\":5\n",
    "    }\n",
    "           ]\n",
    "print(travel_log)"
   ]
  },
  {
   "cell_type": "code",
   "execution_count": 50,
   "metadata": {},
   "outputs": [
    {
     "name": "stdout",
     "output_type": "stream",
     "text": [
      "[{'country': 'France', 'visits': 12, 'cities': ['Paris', 'Lille', 'Dijon']}, {'country': 'Germany', 'visits': 5, 'cities': ['Berlin', 'Hamburg', 'Stuttgart']}, {'country': 'Russia', 'visits': 2, 'cities': ['Moscow', 'Saint Petersburg']}]\n"
     ]
    }
   ],
   "source": [
    "travel_log = [\n",
    "{\n",
    "  \"country\": \"France\",\n",
    "  \"visits\": 12,\n",
    "  \"cities\": [\"Paris\", \"Lille\", \"Dijon\"]\n",
    "},\n",
    "{\n",
    "  \"country\": \"Germany\",\n",
    "  \"visits\": 5,\n",
    "  \"cities\": [\"Berlin\", \"Hamburg\", \"Stuttgart\"]\n",
    "},\n",
    "]\n",
    "#🚨 Do NOT change the code above\n",
    "\n",
    "#TODO: Write the function that will allow new countries\n",
    "#to be added to the travel_log. 👇\n",
    "\n",
    "def add_new_country(country_visited,times_visited,cities_visited):\n",
    "    new_country={}\n",
    "    new_country[\"country\"]=country_visited\n",
    "    new_country[\"visits\"]=times_visited\n",
    "    new_country[\"cities\"]=cities_visited\n",
    "    travel_log.append(new_country)\n",
    "\n",
    "\n",
    "\n",
    "#🚨 Do not change the code below\n",
    "add_new_country(\"Russia\", 2, [\"Moscow\", \"Saint Petersburg\"])\n",
    "print(travel_log)\n"
   ]
  },
  {
   "cell_type": "code",
   "execution_count": 51,
   "metadata": {},
   "outputs": [
    {
     "name": "stdout",
     "output_type": "stream",
     "text": [
      "What is your name?: rambabu\n",
      "What is your bid?: $1200\n",
      "Are there any other bidders? Type 'yes or 'no'.\n",
      "no\n",
      "The winner is rambabu with a bid of $1200\n"
     ]
    }
   ],
   "source": [
    "from IPython.display import clear_output\n",
    "logo = '''\n",
    "                         ___________\n",
    "                         \\         /\n",
    "                          )_______(\n",
    "                          |\"\"\"\"\"\"\"|_.-._,.---------.,_.-._\n",
    "                          |       | | |               | | ''-.\n",
    "                          |       |_| |_             _| |_..-'\n",
    "                          |_______| '-' `'---------'` '-'\n",
    "                          )\"\"\"\"\"\"\"(\n",
    "                         /_________\\\\\n",
    "                       .-------------.\n",
    "                      /_______________\\\\\n",
    "'''\n",
    "\n",
    "\n",
    "bids = {}\n",
    "bidding_finished = False\n",
    "\n",
    "def find_highest_bidder(bidding_record):\n",
    "    highest_bid = 0\n",
    "    winner = \"\"\n",
    "  # bidding_record = {\"Angela\": 123, \"James\": 321}\n",
    "    for bidder in bidding_record:\n",
    "        bid_amount = bidding_record[bidder]\n",
    "        if bid_amount > highest_bid: \n",
    "            highest_bid = bid_amount\n",
    "            winner = bidder\n",
    "    print(f\"The winner is {winner} with a bid of ${highest_bid}\")\n",
    "\n",
    "while not bidding_finished:\n",
    "    name = input(\"What is your name?: \")\n",
    "    price = int(input(\"What is your bid?: $\"))\n",
    "    bids[name] = price\n",
    "    should_continue = input(\"Are there any other bidders? Type 'yes or 'no'.\\n\")\n",
    "    if should_continue == \"no\":\n",
    "        bidding_finished = True\n",
    "        find_highest_bidder(bids)\n",
    "    elif should_continue == \"yes\":\n",
    "        clear_output()\n"
   ]
  },
  {
   "cell_type": "markdown",
   "metadata": {},
   "source": [
    "#### day - 10"
   ]
  },
  {
   "cell_type": "code",
   "execution_count": 52,
   "metadata": {},
   "outputs": [
    {
     "name": "stdout",
     "output_type": "stream",
     "text": [
      "Rambabu Sah\n"
     ]
    }
   ],
   "source": [
    "def format_name(f_name,l_name):\n",
    "    formated_f_name=f_name.title()\n",
    "    formated_l_name=l_name.title()\n",
    "    return f'{formated_f_name} {formated_l_name}'\n",
    "    \n",
    "    \n",
    "print(format_name(\"rambabu\",\"sah\"))"
   ]
  },
  {
   "cell_type": "code",
   "execution_count": 54,
   "metadata": {},
   "outputs": [
    {
     "name": "stdout",
     "output_type": "stream",
     "text": [
      "What is your f_name?ram\n",
      "What is your l_namebabu\n",
      "Ram Babu\n"
     ]
    }
   ],
   "source": [
    "def format_name(f_name,l_name):\n",
    "    if f_name==\"\" or l_name==\"\":\n",
    "        return \"You didn't provide valid inputes\"\n",
    "    formated_f_name=f_name.title()\n",
    "    formated_l_name=l_name.title()\n",
    "    return f'{formated_f_name} {formated_l_name}'\n",
    "    \n",
    "    \n",
    "print(format_name(input(\"What is your f_name?\"),input(\"What is your l_name\")))"
   ]
  },
  {
   "cell_type": "code",
   "execution_count": 55,
   "metadata": {},
   "outputs": [
    {
     "name": "stdout",
     "output_type": "stream",
     "text": [
      "[1, 1, 4, 9, 25, 64, 169, 441, 1156, 3025]\n"
     ]
    }
   ],
   "source": [
    "numbers = [1, 1, 2, 3, 5, 8, 13, 21, 34, 55]\n",
    "# 🚨 Do Not Change the code above 👆\n",
    "\n",
    "#Write your 1 line code 👇 below:\n",
    "squared_numbers=[]\n",
    "for i in numbers: \n",
    "    a=i**2\n",
    "    squared_numbers.append(a)\n",
    "\n",
    "#Write your code 👆 above:\n",
    "\n",
    "print(squared_numbers)"
   ]
  },
  {
   "cell_type": "code",
   "execution_count": 57,
   "metadata": {},
   "outputs": [
    {
     "name": "stdout",
     "output_type": "stream",
     "text": [
      "What is your f_name? ram\n",
      "What is your l_name? babu\n",
      "Ram Babu\n"
     ]
    }
   ],
   "source": [
    "#length=len(formatted_name)\n",
    "def format_name(f_name,l_name):\n",
    "    \"\"\"Take a first and last name and format it \n",
    "    to return the title case version of the name.\"\"\"\n",
    "    if f_name==\"\" or l_name==\"\":\n",
    "        return \"You didn't provide valid inputes\"\n",
    "    formated_f_name=f_name.title()\n",
    "    formated_l_name=l_name.title()\n",
    "    return f'{formated_f_name} {formated_l_name}'\n",
    "    \n",
    "    \n",
    "print(format_name(input(\"What is your f_name? \"),input(\"What is your l_name? \")))"
   ]
  },
  {
   "cell_type": "code",
   "execution_count": 62,
   "metadata": {},
   "outputs": [
    {
     "ename": "SyntaxError",
     "evalue": "f-string: expecting '}' (<ipython-input-62-9dbec7e6dc58>, line 49)",
     "output_type": "error",
     "traceback": [
      "\u001b[1;36m  File \u001b[1;32m\"<ipython-input-62-9dbec7e6dc58>\"\u001b[1;36m, line \u001b[1;32m49\u001b[0m\n\u001b[1;33m    if input(f\"Type 'y' to continue calculating with {an1=answer}:\")==\"y\":\u001b[0m\n\u001b[1;37m             ^\u001b[0m\n\u001b[1;31mSyntaxError\u001b[0m\u001b[1;31m:\u001b[0m f-string: expecting '}'\n"
     ]
    }
   ],
   "source": [
    "logo = \"\"\"\n",
    " _____________________\n",
    "|  _________________  |\n",
    "| | Pythonista   0. | |  .----------------.  .----------------.  .----------------.  .----------------. \n",
    "| |_________________| | | .--------------. || .--------------. || .--------------. || .--------------. |\n",
    "|  ___ ___ ___   ___  | | |     ______   | || |      __      | || |   _____      | || |     ______   | |\n",
    "| | 7 | 8 | 9 | | + | | | |   .' ___  |  | || |     /  \\     | || |  |_   _|     | || |   .' ___  |  | |\n",
    "| |___|___|___| |___| | | |  / .'   \\_|  | || |    / /\\ \\    | || |    | |       | || |  / .'   \\_|  | |\n",
    "| | 4 | 5 | 6 | | - | | | |  | |         | || |   / ____ \\   | || |    | |   _   | || |  | |         | |\n",
    "| |___|___|___| |___| | | |  \\ `.___.'\\  | || | _/ /    \\ \\_ | || |   _| |__/ |  | || |  \\ `.___.'\\  | |\n",
    "| | 1 | 2 | 3 | | x | | | |   `._____.'  | || ||____|  |____|| || |  |________|  | || |   `._____.'  | |\n",
    "| |___|___|___| |___| | | |              | || |              | || |              | || |              | |\n",
    "| | . | 0 | = | | / | | | '--------------' || '--------------' || '--------------' || '--------------' |\n",
    "| |___|___|___| |___| |  '----------------'  '----------------'  '----------------'  '----------------' \n",
    "|_____________________|\n",
    "\"\"\"\n",
    "def add(n1,n2):\n",
    "    return n1+n2\n",
    "def subtract(n1,n2):\n",
    "    return n1-n2\n",
    "def multiply(n1,n2):\n",
    "    return n1*n2\n",
    "def devide(n1,n2):\n",
    "    return n1/n2\n",
    "\n",
    "operations={\n",
    "    \"+\":add,\n",
    "    \"-\":subtract,\n",
    "    \"*\":multiply,\n",
    "    \"/\":devide\n",
    "}\n",
    "def calculator():\n",
    "    print(logo)\n",
    "    num1=float(input(\"What's the first number?: \"))\n",
    "    for symbol in operations:\n",
    "        print(symbol)\n",
    "    should_continue = True\n",
    "    while should_continue:\n",
    "        operation_symbol=input(\"Pick an operation from the line above:\")\n",
    "\n",
    "        num2=float(input(\"What's the second number?: \"))\n",
    "\n",
    "        calculation_function=operations[operation_symbol]\n",
    "        answer=calculation_function(num1,num2)\n",
    "\n",
    "        print(f\"{num1} {operation_symbol} {num2}= {answer}\")\n",
    "\n",
    "        \n",
    "        if input(f\"Type 'y' to continue calculating with {an1=answer}:\")==\"y\":\n",
    "            num1=answer\n",
    "        else:\n",
    "            should_continue=False\n",
    "            calculator()\n",
    "calculator()"
   ]
  },
  {
   "cell_type": "markdown",
   "metadata": {},
   "source": [
    "#### day- 11"
   ]
  },
  {
   "cell_type": "code",
   "execution_count": 63,
   "metadata": {},
   "outputs": [
    {
     "name": "stdout",
     "output_type": "stream",
     "text": [
      "\n",
      ".------.            _     _            _    _            _    \n",
      "|A_  _ |.          | |   | |          | |  (_)          | |   \n",
      "|( \\/ ).-----.     | |__ | | __ _  ___| | ___  __ _  ___| | __\n",
      "| \\  /|K /\\  |     | '_ \\| |/ _` |/ __| |/ / |/ _` |/ __| |/ /\n",
      "|  \\/ | /  \\ |     | |_) | | (_| | (__|   <| | (_| | (__|   < \n",
      "`-----| \\  / |     |_.__/|_|\\__,_|\\___|_|\\_\\ |\\__,_|\\___|_|\\_\\\n",
      "      |  \\/ K|                            _/ |                \n",
      "      `------'                           |__/           \n",
      "\n"
     ]
    },
    {
     "ename": "TypeError",
     "evalue": "'int' object is not callable",
     "output_type": "error",
     "traceback": [
      "\u001b[1;31m---------------------------------------------------------------------------\u001b[0m",
      "\u001b[1;31mTypeError\u001b[0m                                 Traceback (most recent call last)",
      "\u001b[1;32m<ipython-input-63-813a068166e0>\u001b[0m in \u001b[0;36m<module>\u001b[1;34m\u001b[0m\n\u001b[0;32m    100\u001b[0m \u001b[1;32mwhile\u001b[0m \u001b[0minput\u001b[0m\u001b[1;33m(\u001b[0m\u001b[1;34m\"Do you want to play a game of Blackjack? Type 'y' or 'n': \"\u001b[0m\u001b[1;33m)\u001b[0m \u001b[1;33m==\u001b[0m \u001b[1;34m\"y\"\u001b[0m\u001b[1;33m:\u001b[0m\u001b[1;33m\u001b[0m\u001b[1;33m\u001b[0m\u001b[0m\n\u001b[0;32m    101\u001b[0m     \u001b[0mclear_output\u001b[0m\u001b[1;33m(\u001b[0m\u001b[1;33m)\u001b[0m\u001b[1;33m\u001b[0m\u001b[1;33m\u001b[0m\u001b[0m\n\u001b[1;32m--> 102\u001b[1;33m     \u001b[0mplay_game\u001b[0m\u001b[1;33m(\u001b[0m\u001b[1;33m)\u001b[0m\u001b[1;33m\u001b[0m\u001b[1;33m\u001b[0m\u001b[0m\n\u001b[0m",
      "\u001b[1;32m<ipython-input-63-813a068166e0>\u001b[0m in \u001b[0;36mplay_game\u001b[1;34m()\u001b[0m\n\u001b[0;32m     73\u001b[0m     \u001b[1;32mwhile\u001b[0m \u001b[1;32mnot\u001b[0m \u001b[0mis_game_over\u001b[0m\u001b[1;33m:\u001b[0m\u001b[1;33m\u001b[0m\u001b[1;33m\u001b[0m\u001b[0m\n\u001b[0;32m     74\u001b[0m             \u001b[1;31m#Hint 9: Call calculate_score(). If the computer or the user has a blackjack (0) or if the user's score is over 21, then the game ends.\u001b[0m\u001b[1;33m\u001b[0m\u001b[1;33m\u001b[0m\u001b[1;33m\u001b[0m\u001b[0m\n\u001b[1;32m---> 75\u001b[1;33m         \u001b[0muser_score\u001b[0m \u001b[1;33m=\u001b[0m \u001b[0mcalculate_score\u001b[0m\u001b[1;33m(\u001b[0m\u001b[0muser_cards\u001b[0m\u001b[1;33m)\u001b[0m\u001b[1;33m\u001b[0m\u001b[1;33m\u001b[0m\u001b[0m\n\u001b[0m\u001b[0;32m     76\u001b[0m         \u001b[0mcomputer_score\u001b[0m \u001b[1;33m=\u001b[0m \u001b[0mcalculate_score\u001b[0m\u001b[1;33m(\u001b[0m\u001b[0mcomputer_cards\u001b[0m\u001b[1;33m)\u001b[0m\u001b[1;33m\u001b[0m\u001b[1;33m\u001b[0m\u001b[0m\n\u001b[0;32m     77\u001b[0m         \u001b[0mprint\u001b[0m\u001b[1;33m(\u001b[0m\u001b[1;34mf\"   Your cards: {user_cards}, current score: {user_score}\"\u001b[0m\u001b[1;33m)\u001b[0m\u001b[1;33m\u001b[0m\u001b[1;33m\u001b[0m\u001b[0m\n",
      "\u001b[1;32m<ipython-input-63-813a068166e0>\u001b[0m in \u001b[0;36mcalculate_score\u001b[1;34m(cards)\u001b[0m\n\u001b[0;32m     26\u001b[0m \u001b[1;33m\u001b[0m\u001b[0m\n\u001b[0;32m     27\u001b[0m     \u001b[1;31m#Hint 7: Inside calculate_score() check for a blackjack (a hand with only 2 cards: ace + 10) and return 0 instead of the actual score. 0 will represent a blackjack in our game.\u001b[0m\u001b[1;33m\u001b[0m\u001b[1;33m\u001b[0m\u001b[1;33m\u001b[0m\u001b[0m\n\u001b[1;32m---> 28\u001b[1;33m     \u001b[1;32mif\u001b[0m \u001b[0msum\u001b[0m\u001b[1;33m(\u001b[0m\u001b[0mcards\u001b[0m\u001b[1;33m)\u001b[0m \u001b[1;33m==\u001b[0m \u001b[1;36m21\u001b[0m \u001b[1;32mand\u001b[0m \u001b[0mlen\u001b[0m\u001b[1;33m(\u001b[0m\u001b[0mcards\u001b[0m\u001b[1;33m)\u001b[0m \u001b[1;33m==\u001b[0m \u001b[1;36m2\u001b[0m\u001b[1;33m:\u001b[0m\u001b[1;33m\u001b[0m\u001b[1;33m\u001b[0m\u001b[0m\n\u001b[0m\u001b[0;32m     29\u001b[0m         \u001b[1;32mreturn\u001b[0m \u001b[1;36m0\u001b[0m\u001b[1;33m\u001b[0m\u001b[1;33m\u001b[0m\u001b[0m\n\u001b[0;32m     30\u001b[0m     \u001b[1;31m#Hint 8: Inside calculate_score() check for an 11 (ace). If the score is already over 21, remove the 11 and replace it with a 1. You might need to look up append() and remove().\u001b[0m\u001b[1;33m\u001b[0m\u001b[1;33m\u001b[0m\u001b[1;33m\u001b[0m\u001b[0m\n",
      "\u001b[1;31mTypeError\u001b[0m: 'int' object is not callable"
     ]
    }
   ],
   "source": [
    "# playjack project\n",
    "import random\n",
    "from IPython.display import clear_output\n",
    "logo=logo = \"\"\"\n",
    ".------.            _     _            _    _            _    \n",
    "|A_  _ |.          | |   | |          | |  (_)          | |   \n",
    "|( \\/ ).-----.     | |__ | | __ _  ___| | ___  __ _  ___| | __\n",
    "| \\  /|K /\\  |     | '_ \\| |/ _` |/ __| |/ / |/ _` |/ __| |/ /\n",
    "|  \\/ | /  \\ |     | |_) | | (_| | (__|   <| | (_| | (__|   < \n",
    "`-----| \\  / |     |_.__/|_|\\__,_|\\___|_|\\_\\ |\\__,_|\\___|_|\\_\\\\\n",
    "      |  \\/ K|                            _/ |                \n",
    "      `------'                           |__/           \n",
    "\"\"\"\n",
    "\n",
    "def deal_card():\n",
    "    \"\"\"Returns a random card from the deck.\"\"\"\n",
    "    cards = [11, 2, 3, 4, 5, 6, 7, 8, 9, 10, 10, 10, 10]\n",
    "    card = random.choice(cards)\n",
    "    return card\n",
    "\n",
    "#Hint 6: Create a function called calculate_score() that takes a List of cards as input \n",
    "#and returns the score. \n",
    "#Look up the sum() function to help you do this.\n",
    "def calculate_score(cards):\n",
    "    \"\"\"Take a list of cards and return the score calculated from the cards\"\"\"\n",
    "\n",
    "    #Hint 7: Inside calculate_score() check for a blackjack (a hand with only 2 cards: ace + 10) and return 0 instead of the actual score. 0 will represent a blackjack in our game.\n",
    "    if sum(cards) == 21 and len(cards) == 2:\n",
    "        return 0\n",
    "    #Hint 8: Inside calculate_score() check for an 11 (ace). If the score is already over 21, remove the 11 and replace it with a 1. You might need to look up append() and remove().\n",
    "    if 11 in cards and sum(cards) > 21:\n",
    "        cards.remove(11)\n",
    "        cards.append(1)\n",
    "    return sum(cards)\n",
    "\n",
    "#Hint 13: Create a function called compare() and pass in the user_score and computer_score. If the computer and user both have the same score, then it's a draw. If the computer has a blackjack (0), then the user loses. If the user has a blackjack (0), then the user wins. If the user_score is over 21, then the user loses. If the computer_score is over 21, then the computer loses. If none of the above, then the player with the highest score wins.\n",
    "def compare(user_score, computer_score):\n",
    "    #Bug fix. If you and the computer are both over, you lose.\n",
    "    if user_score > 21 and computer_score > 21:\n",
    "        return \"You went over. You lose 😤\"\n",
    "\n",
    "\n",
    "    if user_score == computer_score:\n",
    "        return \"Draw 🙃\"\n",
    "    elif computer_score == 0:\n",
    "        return \"Lose, opponent has Blackjack 😱\"\n",
    "    elif user_score == 0:\n",
    "        return \"Win with a Blackjack 😎\"\n",
    "    elif user_score > 21:\n",
    "        return \"You went over. You lose 😭\"\n",
    "    elif computer_score > 21:\n",
    "        return \"Opponent went over. You win 😁\"\n",
    "    elif user_score > computer_score:\n",
    "        return \"You win 😃\"\n",
    "    else:\n",
    "        return \"You lose 😤\"\n",
    "\n",
    "def play_game():\n",
    "\n",
    "    print(logo)\n",
    "\n",
    "    #Hint 5: Deal the user and computer 2 cards each using deal_card()\n",
    "    user_cards = []\n",
    "    computer_cards = []\n",
    "    is_game_over = False\n",
    "\n",
    "    for _ in range(2):\n",
    "        user_cards.append(deal_card())\n",
    "        computer_cards.append(deal_card())\n",
    "\n",
    "    #Hint 11: The score will need to be rechecked with every new card drawn and the checks in Hint 9 need to be repeated until the game ends.\n",
    "\n",
    "    while not is_game_over:\n",
    "            #Hint 9: Call calculate_score(). If the computer or the user has a blackjack (0) or if the user's score is over 21, then the game ends.\n",
    "        user_score = calculate_score(user_cards)\n",
    "        computer_score = calculate_score(computer_cards)\n",
    "        print(f\"   Your cards: {user_cards}, current score: {user_score}\")\n",
    "        print(f\"   Computer's first card: {computer_cards[0]}\")\n",
    "\n",
    "        if user_score == 0 or computer_score == 0 or user_score > 21:\n",
    "            is_game_over = True\n",
    "        else:\n",
    "            #Hint 10: If the game has not ended, ask the user if they want to draw another card. If yes, then use the deal_card() function to add another card to the user_cards List. If no, then the game has ended.\n",
    "            user_should_deal = input(\"Type 'y' to get another card, type 'n' to pass: \")\n",
    "            if user_should_deal == \"y\":\n",
    "                user_cards.append(deal_card())\n",
    "            else:\n",
    "                is_game_over = True\n",
    "\n",
    "          #Hint 12: Once the user is done, it's time to let the computer play. The computer should keep drawing cards as long as it has a score less than 17.\n",
    "    while computer_score != 0 and computer_score < 17:\n",
    "        computer_cards.append(deal_card())\n",
    "        computer_score = calculate_score(computer_cards)\n",
    "\n",
    "    print(f\"   Your final hand: {user_cards}, final score: {user_score}\")\n",
    "    print(f\"   Computer's final hand: {computer_cards}, final score: {computer_score}\")\n",
    "    print(compare(user_score, computer_score))\n",
    "\n",
    "#Hint 14: Ask the user if they want to restart the game. If they answer yes, clear the console and start a new game of blackjack and show the logo from art.py.\n",
    "while input(\"Do you want to play a game of Blackjack? Type 'y' or 'n': \") == \"y\":\n",
    "    clear_output()\n",
    "    play_game()\n"
   ]
  },
  {
   "cell_type": "markdown",
   "metadata": {},
   "source": [
    "### day - 12"
   ]
  },
  {
   "cell_type": "code",
   "execution_count": 64,
   "metadata": {},
   "outputs": [
    {
     "name": "stdout",
     "output_type": "stream",
     "text": [
      "increase inside function: 2\n",
      "increase inside function: 1\n"
     ]
    }
   ],
   "source": [
    "a=1\n",
    "def increase_a():\n",
    "    a=2\n",
    "    print(f\"increase inside function: {a}\")\n",
    "increase_a()\n",
    "print(f\"increase inside function: {a}\")"
   ]
  },
  {
   "cell_type": "code",
   "execution_count": 65,
   "metadata": {},
   "outputs": [
    {
     "name": "stdout",
     "output_type": "stream",
     "text": [
      "10\n"
     ]
    }
   ],
   "source": [
    "player_health=10\n",
    "def game():\n",
    "    def drink_position():\n",
    "        potion_strength=2\n",
    "        print(player_health)\n",
    "    drink_position()\n",
    "print(player_health)"
   ]
  },
  {
   "cell_type": "code",
   "execution_count": 66,
   "metadata": {},
   "outputs": [
    {
     "name": "stdout",
     "output_type": "stream",
     "text": [
      "                  _                                           _                                               \n",
      "                         | |                                         (_)                                              \n",
      " _ __   _   _  _ __ ___  | |__    ___  _ __    __ _  _   _  ___  ___  _  _ __    __ _    __ _   __ _  _ __ ___    ___ \n",
      "| '_ \\ | | | || '_ ` _ \\ | '_ \\  / _ \\| '__|  / _` || | | |/ __|/ __|| || '_ \\  / _` |  / _` | / _` || '_ ` _ \\  / _ | | | || |_| || | | | | || |_) ||  __/| |    | (_| || |_| |\\__ \\__ \\| || | | || (_| | | (_| || (_| || | | | | ||  __/\n",
      "|_| |_| \\__,_||_| |_| |_||_.__/  \\___||_|     \\__, | \\__,_||___/|___/|_||_| |_| \\__, |  \\__, | \\__,_||_| |_| |_| \\___|\n",
      "                                               __/ |                             __/ |   __/ |                        \n",
      "                                              |___/                             |___/   |___/                         \n",
      "Welcome to the Number Gussing Game!\n",
      "I'm thinking of a number between 1 and 100.\n",
      "Pssst, the correct answer is 8\n",
      "Choose a difficulity.Type 'easy' or 'hard':\n",
      "You have 5 attempts remaining to guess the number.\n",
      "Make a guess:\n"
     ]
    },
    {
     "ename": "ValueError",
     "evalue": "invalid literal for int() with base 10: ''",
     "output_type": "error",
     "traceback": [
      "\u001b[1;31m---------------------------------------------------------------------------\u001b[0m",
      "\u001b[1;31mValueError\u001b[0m                                Traceback (most recent call last)",
      "\u001b[1;32m<ipython-input-66-423156735d48>\u001b[0m in \u001b[0;36m<module>\u001b[1;34m\u001b[0m\n\u001b[0;32m     48\u001b[0m             \u001b[0mprint\u001b[0m\u001b[1;33m(\u001b[0m\u001b[1;34m\"Guess again.\"\u001b[0m\u001b[1;33m)\u001b[0m\u001b[1;33m\u001b[0m\u001b[1;33m\u001b[0m\u001b[0m\n\u001b[0;32m     49\u001b[0m \u001b[1;33m\u001b[0m\u001b[0m\n\u001b[1;32m---> 50\u001b[1;33m \u001b[0mgame\u001b[0m\u001b[1;33m(\u001b[0m\u001b[1;33m)\u001b[0m\u001b[1;33m\u001b[0m\u001b[1;33m\u001b[0m\u001b[0m\n\u001b[0m",
      "\u001b[1;32m<ipython-input-66-423156735d48>\u001b[0m in \u001b[0;36mgame\u001b[1;34m()\u001b[0m\n\u001b[0;32m     40\u001b[0m     \u001b[1;32mwhile\u001b[0m \u001b[0mguess\u001b[0m\u001b[1;33m!=\u001b[0m\u001b[0manswer\u001b[0m\u001b[1;33m:\u001b[0m\u001b[1;33m\u001b[0m\u001b[1;33m\u001b[0m\u001b[0m\n\u001b[0;32m     41\u001b[0m         \u001b[0mprint\u001b[0m\u001b[1;33m(\u001b[0m\u001b[1;34mf\"You have {turns} attempts remaining to guess the number.\"\u001b[0m\u001b[1;33m)\u001b[0m\u001b[1;33m\u001b[0m\u001b[1;33m\u001b[0m\u001b[0m\n\u001b[1;32m---> 42\u001b[1;33m         \u001b[0mguess\u001b[0m\u001b[1;33m=\u001b[0m\u001b[0mint\u001b[0m\u001b[1;33m(\u001b[0m\u001b[0minput\u001b[0m\u001b[1;33m(\u001b[0m\u001b[1;34m\"Make a guess:\"\u001b[0m\u001b[1;33m)\u001b[0m\u001b[1;33m)\u001b[0m\u001b[1;33m\u001b[0m\u001b[1;33m\u001b[0m\u001b[0m\n\u001b[0m\u001b[0;32m     43\u001b[0m         \u001b[0mturns\u001b[0m\u001b[1;33m=\u001b[0m\u001b[0mcheck_answer\u001b[0m\u001b[1;33m(\u001b[0m\u001b[0mguess\u001b[0m\u001b[1;33m,\u001b[0m\u001b[0manswer\u001b[0m\u001b[1;33m,\u001b[0m\u001b[0mturns\u001b[0m\u001b[1;33m)\u001b[0m\u001b[1;33m\u001b[0m\u001b[1;33m\u001b[0m\u001b[0m\n\u001b[0;32m     44\u001b[0m         \u001b[1;32mif\u001b[0m \u001b[0mturns\u001b[0m\u001b[1;33m==\u001b[0m\u001b[1;36m0\u001b[0m\u001b[1;33m:\u001b[0m\u001b[1;33m\u001b[0m\u001b[1;33m\u001b[0m\u001b[0m\n",
      "\u001b[1;31mValueError\u001b[0m: invalid literal for int() with base 10: ''"
     ]
    }
   ],
   "source": [
    "#number gussing game\n",
    "logo=\"\"\"                  _                                           _                                               \n",
    "                         | |                                         (_)                                              \n",
    " _ __   _   _  _ __ ___  | |__    ___  _ __    __ _  _   _  ___  ___  _  _ __    __ _    __ _   __ _  _ __ ___    ___ \n",
    "| '_ \\ | | | || '_ ` _ \\ | '_ \\  / _ \\| '__|  / _` || | | |/ __|/ __|| || '_ \\  / _` |  / _` | / _` || '_ ` _ \\  / _ \\\n",
    "| | | || |_| || | | | | || |_) ||  __/| |    | (_| || |_| |\\__ \\\\__ \\| || | | || (_| | | (_| || (_| || | | | | ||  __/\n",
    "|_| |_| \\__,_||_| |_| |_||_.__/  \\___||_|     \\__, | \\__,_||___/|___/|_||_| |_| \\__, |  \\__, | \\__,_||_| |_| |_| \\___|\n",
    "                                               __/ |                             __/ |   __/ |                        \n",
    "                                              |___/                             |___/   |___/                         \"\"\"\n",
    "import random\n",
    "EASY_LEVEL_TURNS = 10\n",
    "HARD_LEVEL_TURNS = 5\n",
    "\n",
    "def check_answer(guess,answer,turns):\n",
    "    \"\"\" Cheack answer against guess. Returns the number of turns remaining.\"\"\"\n",
    "    if guess>answer:\n",
    "        print(\"Too high\")\n",
    "        return turns-1\n",
    "    elif guess<answer:\n",
    "        print(\"Too low.\")\n",
    "        return turns-1\n",
    "    else:\n",
    "        print(f\"You got it! The  answer was {answer}.\")\n",
    "def set_difficulity():\n",
    "    level=input(\"Choose a difficulity.Type 'easy' or 'hard':\")\n",
    "    if level=='easy':\n",
    "        return EASY_LEVEL_TURNS\n",
    "    else:\n",
    "        return HARD_LEVEL_TURNS\n",
    "def game() :   \n",
    "    print(logo)\n",
    "    print(\"Welcome to the Number Gussing Game!\")\n",
    "    print(\"I'm thinking of a number between 1 and 100.\")\n",
    "    answer=random.randint(1,100)\n",
    "    print(f\"Pssst, the correct answer is {answer}\")\n",
    "    turns=set_difficulity()\n",
    "    \n",
    "\n",
    "    guess=0\n",
    "    while guess!=answer:\n",
    "        print(f\"You have {turns} attempts remaining to guess the number.\")\n",
    "        guess=int(input(\"Make a guess:\"))\n",
    "        turns=check_answer(guess,answer,turns)\n",
    "        if turns==0:\n",
    "            print(\"You've run out of guesses, you lose.\")\n",
    "            return\n",
    "        elif guess!=answer:\n",
    "            print(\"Guess again.\")\n",
    "            \n",
    "game()"
   ]
  },
  {
   "cell_type": "markdown",
   "metadata": {},
   "source": [
    "#### day- 13"
   ]
  },
  {
   "cell_type": "code",
   "execution_count": 67,
   "metadata": {},
   "outputs": [
    {
     "name": "stdout",
     "output_type": "stream",
     "text": [
      "You got it\n",
      "❻\n",
      "What's your year of birth?\n"
     ]
    },
    {
     "ename": "ValueError",
     "evalue": "invalid literal for int() with base 10: ''",
     "output_type": "error",
     "traceback": [
      "\u001b[1;31m---------------------------------------------------------------------------\u001b[0m",
      "\u001b[1;31mValueError\u001b[0m                                Traceback (most recent call last)",
      "\u001b[1;32m<ipython-input-67-66481dd75c2f>\u001b[0m in \u001b[0;36m<module>\u001b[1;34m\u001b[0m\n\u001b[0;32m     15\u001b[0m \u001b[1;33m\u001b[0m\u001b[0m\n\u001b[0;32m     16\u001b[0m \u001b[1;31m# # Play Computer\u001b[0m\u001b[1;33m\u001b[0m\u001b[1;33m\u001b[0m\u001b[1;33m\u001b[0m\u001b[0m\n\u001b[1;32m---> 17\u001b[1;33m \u001b[0myear\u001b[0m \u001b[1;33m=\u001b[0m \u001b[0mint\u001b[0m\u001b[1;33m(\u001b[0m\u001b[0minput\u001b[0m\u001b[1;33m(\u001b[0m\u001b[1;34m\"What's your year of birth?\"\u001b[0m\u001b[1;33m)\u001b[0m\u001b[1;33m)\u001b[0m\u001b[1;33m\u001b[0m\u001b[1;33m\u001b[0m\u001b[0m\n\u001b[0m\u001b[0;32m     18\u001b[0m \u001b[1;32mif\u001b[0m \u001b[0myear\u001b[0m \u001b[1;33m>\u001b[0m \u001b[1;36m1980\u001b[0m \u001b[1;32mand\u001b[0m \u001b[0myear\u001b[0m \u001b[1;33m<\u001b[0m \u001b[1;36m1994\u001b[0m\u001b[1;33m:\u001b[0m\u001b[1;33m\u001b[0m\u001b[1;33m\u001b[0m\u001b[0m\n\u001b[0;32m     19\u001b[0m     \u001b[0mprint\u001b[0m\u001b[1;33m(\u001b[0m\u001b[1;34m\"You are a millenial.\"\u001b[0m\u001b[1;33m)\u001b[0m\u001b[1;33m\u001b[0m\u001b[1;33m\u001b[0m\u001b[0m\n",
      "\u001b[1;31mValueError\u001b[0m: invalid literal for int() with base 10: ''"
     ]
    }
   ],
   "source": [
    "############DEBUGGING#####################\n",
    "\n",
    "# Describe Problem\n",
    "def my_function():\n",
    "    for i in range(1, 21):\n",
    "        if i == 20:\n",
    "            print(\"You got it\")\n",
    "my_function()\n",
    "\n",
    "# # Reproduce the Bug\n",
    "from random import randint\n",
    "dice_imgs = [\"❶\", \"❷\", \"❸\", \"❹\", \"❺\", \"❻\"]\n",
    "dice_num = randint(0,5)\n",
    "print(dice_imgs[dice_num])\n",
    "\n",
    "# # Play Computer\n",
    "year = int(input(\"What's your year of birth?\"))\n",
    "if year > 1980 and year < 1994:\n",
    "    print(\"You are a millenial.\")\n",
    "elif year >= 1994:\n",
    "    print(\"You are a Gen Z.\")\n",
    "\n",
    "# # Fix the Errors\n",
    "age = int(input(\"How old are you?\"))\n",
    "if age > 18:\n",
    "    print(f\"You can drive at age {age}.\")\n",
    "\n",
    "# #Print is Your Friend\n",
    "pages = 0\n",
    "word_per_page = 0\n",
    "pages = int(input(\"Number of pages: \"))\n",
    "word_per_page = int(input(\"Number of words per page: \"))\n",
    "total_words = pages * word_per_page\n",
    "print(total_words)\n",
    "\n",
    "# #Use a Debugger\n",
    "def mutate(a_list):\n",
    "    b_list = []\n",
    "    for item in a_list:\n",
    "        new_item = item * 2\n",
    "        b_list.append(new_item)\n",
    "    print(b_list)\n",
    "\n",
    "mutate([1,2,3,5,8,13])"
   ]
  }
 ],
 "metadata": {
  "kernelspec": {
   "display_name": "Python 3",
   "language": "python",
   "name": "python3"
  },
  "language_info": {
   "codemirror_mode": {
    "name": "ipython",
    "version": 3
   },
   "file_extension": ".py",
   "mimetype": "text/x-python",
   "name": "python",
   "nbconvert_exporter": "python",
   "pygments_lexer": "ipython3",
   "version": "3.8.5"
  }
 },
 "nbformat": 4,
 "nbformat_minor": 4
}
